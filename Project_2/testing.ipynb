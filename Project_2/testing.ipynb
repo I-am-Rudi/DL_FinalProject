{
 "cells": [
  {
   "cell_type": "code",
   "execution_count": null,
   "metadata": {},
   "outputs": [],
   "source": [
    "import torch\n",
    "import framework.nn_fw as nn \n",
    "import framework.train_test_fw as tt\n",
    "from visualization import *\n",
    "from tqdm.notebook import tqdm\n",
    "from generate_data import *\n",
    "\n",
    "torch.set_grad_enabled(False)  # explicitly enforces expectation for the task \n",
    "\n",
    "if torch.cuda.is_available():\n",
    "    device = torch.device('cuda')\n",
    "    print(\"Using cuda device for all tensor calculations.\")\n",
    "else:\n",
    "    device = torch.device('cpu')\n",
    "    print(\"Using cpu device for all tensor calculations.\")"
   ]
  },
  {
   "cell_type": "markdown",
   "metadata": {},
   "source": [
    "Generate Data as instructed in task"
   ]
  },
  {
   "cell_type": "code",
   "execution_count": null,
   "metadata": {},
   "outputs": [],
   "source": [
    "data = generate_disc_set(2_000, split=.5, one_hot_labels=False)"
   ]
  },
  {
   "cell_type": "markdown",
   "metadata": {},
   "source": [
    "Checking wether dataset is created correctly"
   ]
  },
  {
   "cell_type": "code",
   "execution_count": null,
   "metadata": {},
   "outputs": [],
   "source": [
    "#plot_data(data)"
   ]
  },
  {
   "cell_type": "code",
   "execution_count": null,
   "metadata": {},
   "outputs": [],
   "source": [
    "model = nn.Sequential\n",
    "architecture = (nn.Linear(2, 25), nn.Sigmoid(), nn.Linear(25, 25), nn.ReLU(), nn.Linear(25, 1), nn.ReLU())"
   ]
  },
  {
   "cell_type": "code",
   "execution_count": null,
   "metadata": {},
   "outputs": [],
   "source": [
    "trial_name = \"Tanh\"\n",
    "nb_trials = 50\n",
    "epochs = 50_000\n",
    "batch_size = 100\n",
    "learning_rate = 0.0001\n",
    "\n",
    "mean, std = tt.run_analysis(model, architecture, data, nb_trials, epochs, device, batch_size=batch_size, lr = learning_rate, name = trial_name)"
   ]
  },
  {
   "cell_type": "code",
   "execution_count": null,
   "metadata": {},
   "outputs": [],
   "source": [
    "best_run = nn.load_model(\"best_model_\" + trial_name + '_epochs_{}'.format(epochs))\n",
    "best_run.to_device(device)\n",
    "output = best_run(data[2].to(device))\n",
    "errors = tt.compute_nb_errors(output, data[3].to(device))\n",
    "accuracy = 1 - errors/(data[2].shape[0])\n",
    "\n",
    "print(\"The best performing model from the previous analysis achieves: \\n\")\n",
    "print(\"Test accuracy: ({:.3f}%)\".format(100. * accuracy), \"   |     Total number of errors {}\".format(errors))"
   ]
  }
 ],
 "metadata": {
  "kernelspec": {
   "display_name": "torch",
   "language": "python",
   "name": "python3"
  },
  "language_info": {
   "codemirror_mode": {
    "name": "ipython",
    "version": 3
   },
   "file_extension": ".py",
   "mimetype": "text/x-python",
   "name": "python",
   "nbconvert_exporter": "python",
   "pygments_lexer": "ipython3",
   "version": "3.9.12 (main, Jun  1 2022, 11:38:51) \n[GCC 7.5.0]"
  },
  "orig_nbformat": 4,
  "vscode": {
   "interpreter": {
    "hash": "9776258cb6398d27f5227b85aed097ba1d94f1dc0f3390982c9d110f6351e5c3"
   }
  }
 },
 "nbformat": 4,
 "nbformat_minor": 2
}
