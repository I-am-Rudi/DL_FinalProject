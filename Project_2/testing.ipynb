{
 "cells": [
  {
   "cell_type": "code",
   "execution_count": 1,
   "metadata": {},
   "outputs": [
    {
     "name": "stdout",
     "output_type": "stream",
     "text": [
      "Using cuda device for all tensor calculations.\n"
     ]
    }
   ],
   "source": [
    "import torch\n",
    "import framework.nn_fw as nn \n",
    "import framework.train_test_fw as tt\n",
    "from visualization import *\n",
    "from tqdm.notebook import tqdm\n",
    "from generate_data import *\n",
    "\n",
    "torch.set_grad_enabled(False)  # explicitly enforces expectation for the task \n",
    "\n",
    "if torch.cuda.is_available():\n",
    "    device = torch.device('cuda')\n",
    "    print(\"Using cuda device for all tensor calculations.\")\n",
    "else:\n",
    "    device = torch.device('cpu')\n",
    "    print(\"Using cpu device for all tensor calculations.\")"
   ]
  },
  {
   "cell_type": "markdown",
   "metadata": {},
   "source": [
    "Generate Data as instructed in task"
   ]
  },
  {
   "cell_type": "code",
   "execution_count": 2,
   "metadata": {},
   "outputs": [],
   "source": [
    "data = generate_disc_set(2_000, split=.5, one_hot_labels=False)"
   ]
  },
  {
   "cell_type": "markdown",
   "metadata": {},
   "source": [
    "Checking wether dataset is created correctly"
   ]
  },
  {
   "cell_type": "code",
   "execution_count": 3,
   "metadata": {},
   "outputs": [],
   "source": [
    "#plot_data(data)"
   ]
  },
  {
   "cell_type": "code",
   "execution_count": 4,
   "metadata": {},
   "outputs": [],
   "source": [
    "model = nn.Sequential\n",
    "architecture = (nn.Linear(2, 25), nn.Sigmoid(), nn.Linear(25, 25), nn.ReLU(), nn.Linear(25, 1), nn.ReLU())"
   ]
  },
  {
   "cell_type": "code",
   "execution_count": 5,
   "metadata": {},
   "outputs": [
    {
     "data": {
      "application/vnd.jupyter.widget-view+json": {
       "model_id": "cb2b5a1bdf594bcaa5e220e890a09131",
       "version_major": 2,
       "version_minor": 0
      },
      "text/plain": [
       "  0%|          | 0/5 [00:00<?, ?it/s]"
      ]
     },
     "metadata": {},
     "output_type": "display_data"
    },
    {
     "ename": "AttributeError",
     "evalue": "'Sigmoid' object has no attribute 'to_device'",
     "output_type": "error",
     "traceback": [
      "\u001b[0;31m---------------------------------------------------------------------------\u001b[0m",
      "\u001b[0;31mAttributeError\u001b[0m                            Traceback (most recent call last)",
      "\u001b[1;32m/home/rudi/Documents/Uni/Courses-Exchange/DeepLearning/Final_Project/Project_2/testing.ipynb Cell 7\u001b[0m in \u001b[0;36m<cell line: 9>\u001b[0;34m()\u001b[0m\n\u001b[1;32m      <a href='vscode-notebook-cell:/home/rudi/Documents/Uni/Courses-Exchange/DeepLearning/Final_Project/Project_2/testing.ipynb#W6sZmlsZQ%3D%3D?line=3'>4</a>\u001b[0m batch_size \u001b[39m=\u001b[39m \u001b[39m100\u001b[39m\n\u001b[1;32m      <a href='vscode-notebook-cell:/home/rudi/Documents/Uni/Courses-Exchange/DeepLearning/Final_Project/Project_2/testing.ipynb#W6sZmlsZQ%3D%3D?line=4'>5</a>\u001b[0m learning_rate \u001b[39m=\u001b[39m \u001b[39m0.0001\u001b[39m\n\u001b[0;32m----> <a href='vscode-notebook-cell:/home/rudi/Documents/Uni/Courses-Exchange/DeepLearning/Final_Project/Project_2/testing.ipynb#W6sZmlsZQ%3D%3D?line=8'>9</a>\u001b[0m mean, std \u001b[39m=\u001b[39m tt\u001b[39m.\u001b[39;49mrun_analysis(model, architecture, data, nb_trials, epochs, device, batch_size\u001b[39m=\u001b[39;49mbatch_size, lr \u001b[39m=\u001b[39;49m learning_rate, name \u001b[39m=\u001b[39;49m trial_name)\n",
      "File \u001b[0;32m~/Documents/Uni/Courses-Exchange/DeepLearning/Final_Project/Project_2/framework/train_test_fw.py:106\u001b[0m, in \u001b[0;36mrun_analysis\u001b[0;34m(model, layers, data, nb_trials, epochs, device, name, batch_size, lr, loss, optimizer)\u001b[0m\n\u001b[1;32m    103\u001b[0m test_accuracy \u001b[39m=\u001b[39m []\n\u001b[1;32m    105\u001b[0m \u001b[39mfor\u001b[39;00m _ \u001b[39min\u001b[39;00m tqdm(\u001b[39mrange\u001b[39m(nb_trials)):\n\u001b[0;32m--> 106\u001b[0m     test_accuracy\u001b[39m.\u001b[39mappend(run_trial(model, layers, data, epochs, device, batch_size, loss, optimizer, lr, name))\n\u001b[1;32m    108\u001b[0m mean \u001b[39m=\u001b[39m torch\u001b[39m.\u001b[39mmean(torch\u001b[39m.\u001b[39mtensor(test_accuracy), \u001b[39m0\u001b[39m)\n\u001b[1;32m    109\u001b[0m std \u001b[39m=\u001b[39m torch\u001b[39m.\u001b[39mstd(torch\u001b[39m.\u001b[39mtensor(test_accuracy), \u001b[39m0\u001b[39m)\n",
      "File \u001b[0;32m~/Documents/Uni/Courses-Exchange/DeepLearning/Final_Project/Project_2/framework/train_test_fw.py:73\u001b[0m, in \u001b[0;36mrun_trial\u001b[0;34m(model, layers, data, epochs, device, batch_size, loss, optimizer, lr, name)\u001b[0m\n\u001b[1;32m     70\u001b[0m \u001b[39mdef\u001b[39;00m \u001b[39mrun_trial\u001b[39m(model, layers, data, epochs, device, batch_size \u001b[39m=\u001b[39m \u001b[39m50\u001b[39m, loss\u001b[39m=\u001b[39mnn\u001b[39m.\u001b[39mMSE, optimizer\u001b[39m=\u001b[39mnn\u001b[39m.\u001b[39mSGD, lr\u001b[39m=\u001b[39m\u001b[39m.0001\u001b[39m, name\u001b[39m=\u001b[39m\u001b[39m\"\u001b[39m\u001b[39m\"\u001b[39m):\n\u001b[1;32m     72\u001b[0m     NN \u001b[39m=\u001b[39m model(\u001b[39m*\u001b[39mlayers)\n\u001b[0;32m---> 73\u001b[0m     NN\u001b[39m.\u001b[39;49mto_device(device)\n\u001b[1;32m     75\u001b[0m     teacher \u001b[39m=\u001b[39m Teacher(optimizer, loss, data, device, batch_size)\n\u001b[1;32m     77\u001b[0m     train_accuracy \u001b[39m=\u001b[39m []\n",
      "File \u001b[0;32m~/Documents/Uni/Courses-Exchange/DeepLearning/Final_Project/Project_2/framework/nn_fw.py:162\u001b[0m, in \u001b[0;36mSequential.to_device\u001b[0;34m(self, device)\u001b[0m\n\u001b[1;32m    160\u001b[0m \u001b[39mdef\u001b[39;00m \u001b[39mto_device\u001b[39m(\u001b[39mself\u001b[39m, device):\n\u001b[1;32m    161\u001b[0m     \u001b[39mfor\u001b[39;00m layer \u001b[39min\u001b[39;00m \u001b[39mself\u001b[39m\u001b[39m.\u001b[39mlayers:\n\u001b[0;32m--> 162\u001b[0m         layer\u001b[39m.\u001b[39;49mto_device(device)\n",
      "\u001b[0;31mAttributeError\u001b[0m: 'Sigmoid' object has no attribute 'to_device'"
     ]
    }
   ],
   "source": [
    "trial_name = \"test\"\n",
    "nb_trials = 5\n",
    "epochs = 100\n",
    "batch_size = 100\n",
    "learning_rate = 0.0001\n",
    "\n",
    "\n",
    "\n",
    "mean, std = tt.run_analysis(model, architecture, data, nb_trials, epochs, device, batch_size=batch_size, lr = learning_rate, name = trial_name)"
   ]
  },
  {
   "cell_type": "code",
   "execution_count": null,
   "metadata": {},
   "outputs": [
    {
     "name": "stdout",
     "output_type": "stream",
     "text": [
      "The best performing model from the previous analysis achieves: \n",
      "\n",
      "Test accuracy: (44.800%)    |     Total number of errors 552\n"
     ]
    }
   ],
   "source": [
    "best_run = nn.load_model(\"best_model_\" + trial_name + '_epochs_{}'.format(epochs))\n",
    "output = best_run(data[2])\n",
    "errors = tt.compute_nb_errors(output, data[3])\n",
    "accuracy = 1 - errors/(data[2].shape[0])\n",
    "\n",
    "print(\"The best performing model from the previous analysis achieves: \\n\")\n",
    "print(\"Test accuracy: ({:.3f}%)\".format(100. * accuracy), \"   |     Total number of errors {}\".format(errors))"
   ]
  }
 ],
 "metadata": {
  "kernelspec": {
   "display_name": "torch",
   "language": "python",
   "name": "python3"
  },
  "language_info": {
   "codemirror_mode": {
    "name": "ipython",
    "version": 3
   },
   "file_extension": ".py",
   "mimetype": "text/x-python",
   "name": "python",
   "nbconvert_exporter": "python",
   "pygments_lexer": "ipython3",
   "version": "3.9.12"
  },
  "orig_nbformat": 4,
  "vscode": {
   "interpreter": {
    "hash": "9776258cb6398d27f5227b85aed097ba1d94f1dc0f3390982c9d110f6351e5c3"
   }
  }
 },
 "nbformat": 4,
 "nbformat_minor": 2
}
