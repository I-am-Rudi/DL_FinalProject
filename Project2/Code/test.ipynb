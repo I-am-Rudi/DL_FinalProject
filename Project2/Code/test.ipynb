{
 "cells": [
  {
   "cell_type": "code",
   "execution_count": 3,
   "metadata": {},
   "outputs": [],
   "source": [
    "#Example of initialisation \n",
    "\n",
    "import framework as fw\n",
    "import torch as t\n",
    "import test as test\n",
    "\n",
    "x_train,y_train,x_test,y_test = test.generateData() #Generate the data"
   ]
  },
  {
   "cell_type": "code",
   "execution_count": 4,
   "metadata": {},
   "outputs": [
    {
     "name": "stdout",
     "output_type": "stream",
     "text": [
      "Start of epochs  0\n"
     ]
    }
   ],
   "source": [
    "nn = fw.NeuralNetwork()  #Initialize and train your model\n",
    "\n",
    "batch_size = 50\n",
    "epochs = 50\n",
    "l_rate = 0.0001\n",
    "\n",
    "nn.add(nn.Linear(2,25),nn.tanH(),nn.Linear(25,25),nn.reLU(),nn.Linear(25,1),nn.reLU()) \n",
    "nn.train(x_train,y_train,batch_size,epochs,l_rate)"
   ]
  },
  {
   "cell_type": "code",
   "execution_count": 5,
   "metadata": {},
   "outputs": [
    {
     "name": "stdout",
     "output_type": "stream",
     "text": [
      "Train accuracy: \n",
      "Accuracy =  0.663\n"
     ]
    },
    {
     "data": {
      "text/plain": [
       "0.663"
      ]
     },
     "execution_count": 5,
     "metadata": {},
     "output_type": "execute_result"
    }
   ],
   "source": [
    "print(\"Train accuracy: \")\n",
    "nn.computeAcc(x_train,y_train,batch_size)"
   ]
  },
  {
   "cell_type": "code",
   "execution_count": 6,
   "metadata": {},
   "outputs": [],
   "source": [
    "nn.saveModel(nn,\"MonModel\") # Save your model"
   ]
  }
 ],
 "metadata": {
  "kernelspec": {
   "display_name": "astro",
   "language": "python",
   "name": "python3"
  },
  "language_info": {
   "codemirror_mode": {
    "name": "ipython",
    "version": 3
   },
   "file_extension": ".py",
   "mimetype": "text/x-python",
   "name": "python",
   "nbconvert_exporter": "python",
   "pygments_lexer": "ipython3",
   "version": "3.9.12 (main, Apr  5 2022, 06:56:58) \n[GCC 7.5.0]"
  },
  "vscode": {
   "interpreter": {
    "hash": "3d435d90142efd56082c6f10f08a4995749d950e91267024c68b845cd94b000d"
   }
  }
 },
 "nbformat": 4,
 "nbformat_minor": 4
}
