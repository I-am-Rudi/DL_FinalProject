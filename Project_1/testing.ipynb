{
 "cells": [
  {
   "cell_type": "code",
   "execution_count": 3,
   "metadata": {},
   "outputs": [],
   "source": [
    "from load_data import generate_pair_sets\n",
    "from Visualization import plot_pairs, plot_single\n",
    "import torch\n",
    "import torch.nn as nn\n",
    "import matplotlib.pyplot as plt"
   ]
  },
  {
   "cell_type": "code",
   "execution_count": 4,
   "metadata": {},
   "outputs": [],
   "source": [
    "train_data, train_target, train_classes, test_data, test_target, test_classes = generate_pair_sets(50)"
   ]
  },
  {
   "cell_type": "code",
   "execution_count": 5,
   "metadata": {},
   "outputs": [
    {
     "name": "stdout",
     "output_type": "stream",
     "text": [
      "torch.Size([50, 2, 14, 14]) torch.Size([50, 2, 10]) torch.Size([50, 2])\n",
      "torch.Size([50, 2, 14, 14]) torch.Size([50, 2, 10]) torch.Size([50, 2])\n"
     ]
    }
   ],
   "source": [
    "print(\n",
    "    train_data.shape,\n",
    "    train_classes.shape,\n",
    "    train_target.shape\n",
    ")\n",
    "print(\n",
    "    test_data.shape,\n",
    "    test_classes.shape,\n",
    "    test_target.shape\n",
    ")"
   ]
  },
  {
   "cell_type": "markdown",
   "metadata": {},
   "source": [
    "larger is 0; smaller or equal is 1"
   ]
  },
  {
   "cell_type": "code",
   "execution_count": 6,
   "metadata": {},
   "outputs": [
    {
     "data": {
      "image/png": "[encoded data removed]",
      "text/plain": [
       "<Figure size 288x432 with 6 Axes>"
      ]
     },
     "metadata": {
      "needs_background": "light"
     },
     "output_type": "display_data"
    }
   ],
   "source": [
    "plot_pairs(3, train_data, train_classes, train_target)"
   ]
  },
  {
   "cell_type": "markdown",
   "metadata": {},
   "source": [
    "Sanity check for concatenating the tensors before feeding them to Conv2d layers."
   ]
  },
  {
   "cell_type": "code",
   "execution_count": 6,
   "metadata": {},
   "outputs": [
    {
     "name": "stdout",
     "output_type": "stream",
     "text": [
      "torch.Size([50, 64, 4, 4]) 32\n",
      "torch.Size([50, 64, 1, 1])\n"
     ]
    }
   ],
   "source": [
    "model = nn.Sequential(\n",
    "        nn.Conv2d(1, 32, kernel_size=3), \n",
    "        nn.MaxPool2d(2, stride = 2),\n",
    "        nn.Conv2d(32, 32, kernel_size=3))\n",
    "\n",
    "output = model(train_data[:, 0, :, :].unsqueeze(1))\n",
    "output2 = model(train_data[:, 0, :, :].unsqueeze(1))\n",
    "output = torch.cat((output, output2), 1)\n",
    "print(output.shape, nn.Conv2d(32, 32, kernel_size=3).weight.size(0))\n",
    "model = nn.Sequential(nn.Conv2d(64, 64, kernel_size=4))\n",
    "ouput = model(output)\n",
    "print(ouput.shape)"
   ]
  },
  {
   "cell_type": "code",
   "execution_count": null,
   "metadata": {},
   "outputs": [
    {
     "name": "stdout",
     "output_type": "stream",
     "text": [
      "[[1.0, 2.0, 3.0], [1.0, 2.0, 3.0]]\n",
      "tensor([[1., 2., 3.],\n",
      "        [1., 2., 3.]])\n"
     ]
    },
    {
     "data": {
      "text/plain": [
       "tensor([1., 2., 3.])"
      ]
     },
     "execution_count": 12,
     "metadata": {},
     "output_type": "execute_result"
    }
   ],
   "source": [
    "a = [1., 2., 3.]\n",
    "b = [1., 2., 3.]\n",
    "l = []\n",
    "\n",
    "l.append(a)\n",
    "l.append(b)\n",
    "print(l)\n",
    "print(torch.tensor(l))\n",
    "\n",
    "torch.mean(torch.tensor(l), 0)"
   ]
  },
  {
   "cell_type": "code",
   "execution_count": null,
   "metadata": {},
   "outputs": [],
   "source": []
  }
 ],
 "metadata": {
  "kernelspec": {
   "display_name": "torch",
   "language": "python",
   "name": "python3"
  },
  "language_info": {
   "codemirror_mode": {
    "name": "ipython",
    "version": 3
   },
   "file_extension": ".py",
   "mimetype": "text/x-python",
   "name": "python",
   "nbconvert_exporter": "python",
   "pygments_lexer": "ipython3",
   "version": "3.9.12"
  },
  "orig_nbformat": 4,
  "vscode": {
   "interpreter": {
    "hash": "9776258cb6398d27f5227b85aed097ba1d94f1dc0f3390982c9d110f6351e5c3"
   }
  }
 },
 "nbformat": 4,
 "nbformat_minor": 2
}
