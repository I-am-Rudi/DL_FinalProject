{
 "cells": [
  {
   "cell_type": "code",
   "execution_count": null,
   "metadata": {},
   "outputs": [],
   "source": [
    "import os,sys\n",
    "# torch \n",
    "import torch \n",
    "from torch import nn, optim\n",
    "from torch.nn.modules import Module\n",
    "from torchvision import datasets # load data\n",
    "from torch.autograd import Variable\n",
    "import torch.optim as optim\n",
    "\n",
    "#own modules\n",
    "\n",
    "from run_training import *\n",
    "from Networks import *\n",
    "from Visualization import *\n",
    "\n",
    "if torch.cuda.is_available():\n",
    "    device = torch.device('cuda')\n",
    "    print(\"Using cuda device for all tensor calculations.\")\n",
    "else:\n",
    "    device = torch.device('cpu')\n",
    "    print(\"Using cpu device for all tensor calculations.\")"
   ]
  },
  {
   "cell_type": "code",
   "execution_count": null,
   "metadata": {},
   "outputs": [],
   "source": [
    "nb_trials = 150\n",
    "epochs = 100\n",
    "batch_size = 50\n",
    "one_hot_labels = True\n",
    "lr=.01\n",
    "layers = [64, 64, 32]"
   ]
  },
  {
   "cell_type": "code",
   "execution_count": null,
   "metadata": {},
   "outputs": [],
   "source": [
    "name = \"Simple convolutional network\"\n",
    "pm_results = run_analysis(Plain_model, nb_trials, epochs, layers, device, name, batch_size=batch_size, lr=lr, one_hot_labels=one_hot_labels)\n",
    "res_save(pm_results, name)"
   ]
  },
  {
   "cell_type": "code",
   "execution_count": null,
   "metadata": {},
   "outputs": [],
   "source": [
    "name = \"Weight sharing network\"\n",
    "ws_results = run_analysis(Ws_model,  nb_trials, epochs, layers, device, name, batch_size=batch_size, lr=lr, one_hot_labels=one_hot_labels)\n",
    "res_save(ws_results, name)"
   ]
  },
  {
   "cell_type": "code",
   "execution_count": null,
   "metadata": {},
   "outputs": [],
   "source": [
    "name = \"Simple Auxiliary classifier network\"\n",
    "s_aux_results = run_analysis(Simple_aux_model,  nb_trials, epochs, layers, device, name, batch_size=batch_size, lr=lr, one_hot_labels=one_hot_labels)\n",
    "res_save(s_aux_results, name)"
   ]
  },
  {
   "cell_type": "code",
   "execution_count": null,
   "metadata": {},
   "outputs": [],
   "source": [
    "name = \"Auxiliary classifier network using classes\"\n",
    "c_aux_results = run_analysis(Class_aux_model,  nb_trials, epochs, layers, device, name, batch_size=batch_size, lr=lr, one_hot_labels=one_hot_labels)\n",
    "res_save(c_aux_results, name)"
   ]
  },
  {
   "cell_type": "code",
   "execution_count": null,
   "metadata": {},
   "outputs": [],
   "source": [
    "name = \"Fully convolutional network\"\n",
    "pm_results = run_analysis(Plain_model, nb_trials, epochs, layers, device, name, batch_size=batch_size, lr=lr, one_hot_labels=one_hot_labels, fconv=True)\n",
    "res_save(pm_results, name)"
   ]
  },
  {
   "cell_type": "code",
   "execution_count": null,
   "metadata": {},
   "outputs": [],
   "source": [
    "name = \"Fully convolutional weight sharing network\"\n",
    "ws_results = run_analysis(Ws_model,  nb_trials, epochs, layers, device, name, batch_size=batch_size, lr=lr, one_hot_labels=one_hot_labels, fconv=True)\n",
    "res_save(ws_results, name)"
   ]
  },
  {
   "cell_type": "code",
   "execution_count": null,
   "metadata": {},
   "outputs": [],
   "source": [
    "name = \"Fully convolutional auxiliary classifier network\"\n",
    "s_aux_results = run_analysis(Simple_aux_model,  nb_trials, epochs, layers, device, name, batch_size=batch_size, lr=lr, one_hot_labels=one_hot_labels, fconv=True)\n",
    "res_save(s_aux_results, name)"
   ]
  },
  {
   "cell_type": "code",
   "execution_count": null,
   "metadata": {},
   "outputs": [],
   "source": [
    "name = \"Fully convolutional auxiliary classifier network using classes\"\n",
    "c_aux_results = run_analysis(Class_aux_model,  nb_trials, epochs, layers, device, name, batch_size=batch_size, lr=lr, one_hot_labels=one_hot_labels, fconv=True)\n",
    "res_save(c_aux_results, name)"
   ]
  },
  {
   "cell_type": "code",
   "execution_count": null,
   "metadata": {},
   "outputs": [],
   "source": [
    "one_hot_labels = False  # The naming in the following part should be \"... one_hot_labels=False\" this is fixed before plotting\n",
    "\n",
    "name = \"Simple convolutional network one_hot_labels\"\n",
    "pm_results = run_analysis(Plain_model, nb_trials, epochs, layers, device, name, batch_size=batch_size, lr=lr, one_hot_labels=one_hot_labels, loss=nn.MSELoss())\n",
    "res_save(pm_results, name)"
   ]
  },
  {
   "cell_type": "code",
   "execution_count": null,
   "metadata": {},
   "outputs": [],
   "source": [
    "name = \"Weight sharing network one_hot_labels\"\n",
    "ws_results = run_analysis(Ws_model,  nb_trials, epochs, layers, device, name, batch_size=batch_size, lr=lr, one_hot_labels=one_hot_labels, loss=nn.MSELoss())\n",
    "res_save(ws_results, name)"
   ]
  },
  {
   "cell_type": "code",
   "execution_count": null,
   "metadata": {},
   "outputs": [],
   "source": [
    "name = \"Simple Auxiliary classifier network one_hot_labels\"\n",
    "s_aux_results = run_analysis(Simple_aux_model,  nb_trials, epochs, layers, device, name, batch_size=batch_size, lr=lr, one_hot_labels=one_hot_labels, loss=nn.MSELoss())\n",
    "res_save(s_aux_results, name)"
   ]
  },
  {
   "cell_type": "code",
   "execution_count": null,
   "metadata": {},
   "outputs": [],
   "source": [
    "name = \"Auxiliary classifier network using classes one_hot_labels\"\n",
    "c_aux_results = run_analysis(Class_aux_model,  nb_trials, epochs, layers, device, name, batch_size=batch_size, lr=lr, one_hot_labels=one_hot_labels, loss=nn.MSELoss())\n",
    "res_save(c_aux_results, name)"
   ]
  }
 ],
 "metadata": {
  "kernelspec": {
   "display_name": "torch",
   "language": "python",
   "name": "python3"
  },
  "language_info": {
   "codemirror_mode": {
    "name": "ipython",
    "version": 3
   },
   "file_extension": ".py",
   "mimetype": "text/x-python",
   "name": "python",
   "nbconvert_exporter": "python",
   "pygments_lexer": "ipython3",
   "version": "3.9.12 (main, Apr  5 2022, 06:56:58) \n[GCC 7.5.0]"
  },
  "orig_nbformat": 4,
  "vscode": {
   "interpreter": {
    "hash": "9776258cb6398d27f5227b85aed097ba1d94f1dc0f3390982c9d110f6351e5c3"
   }
  }
 },
 "nbformat": 4,
 "nbformat_minor": 2
}
