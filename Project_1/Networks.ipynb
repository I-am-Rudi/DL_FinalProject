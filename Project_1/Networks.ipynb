{
 "cells": [
  {
   "cell_type": "code",
   "execution_count": 1,
   "metadata": {},
   "outputs": [
    {
     "name": "stdout",
     "output_type": "stream",
     "text": [
      "Using cuda device for all tensor calculations.\n"
     ]
    }
   ],
   "source": [
    "import os,sys\n",
    "# torch \n",
    "import torch # pytorch package, allows using GPUs\n",
    "import torch.nn.functional as F # implements forward and backward definitions of an autograd operation\n",
    "from torch import nn, optim\n",
    "from torch.nn.modules import Module\n",
    "from torchvision import datasets # load data\n",
    "from torch.autograd import Variable\n",
    "import torch.optim as optim\n",
    "\n",
    "if torch.cuda.is_available():\n",
    "    device = torch.device('cuda')\n",
    "    print(\"Using cuda device for all tensor calculations.\")\n",
    "else:\n",
    "    device = torch.device('cpu')\n",
    "    print(\"Using cpu device for all tensor calculations.\")"
   ]
  },
  {
   "cell_type": "code",
   "execution_count": 2,
   "metadata": {},
   "outputs": [],
   "source": [
    "class plain_model(nn.Module):\n",
    "    def __init__(self, lin_layers, activation = nn.ReLU(), out_activation = nn.LogSoftmax(dim=1), device=None):\n",
    "        super().__init__()\n",
    "        ########### setting up conv layers ###########\n",
    "        self.layers = nn.ModuleList()\n",
    "        self.layers.append(nn.Conv2d(1, 32, kernel_size=5))\n",
    "        self.layers.append(activation)\n",
    "        self.layers.append(nn.MaxPool2d(2, stride = 2))\n",
    "        self.layers.append(nn.Conv2d(32, 32, kernel_size=5))\n",
    "        self.layers.append(activation)\n",
    "        #self.layers.append(nn.Conv2d(32, 64, kernel_size=1))\n",
    "        #self.layers.append(activation)\n",
    "        #self.layers.append(nn.Conv2d(64, 64, kernel_size=1))\n",
    "        #self.layers.append(activation)\n",
    "        #self.layers.append(nn.MaxPool2d(2, stride = 2))\n",
    "        self.layers.append(nn.Flatten())\n",
    "\n",
    "        layers_full = [256] + lin_layers\n",
    "        \n",
    "        ################## FFN ##################  \n",
    "        # variable number of hidden layers and neurons, controlled by \n",
    "        for i, layer in enumerate(lin_layers):\n",
    "            self.layers.append(nn.Linear(layers_full[i], layer))\n",
    "            if activation is not None:\n",
    "                assert isinstance(activation, Module), \\\n",
    "                self.layers.append(activation)\n",
    "            self.layers.append(nn.BatchNorm1d(layer))\n",
    "\n",
    "        self.layers.append(nn.Linear(lin_layers[-1], 2))\n",
    "        \n",
    "        # only one dropout layer after all BN layers inspired by https://arxiv.org/pdf/1801.05134.pdf (also we have a very low amount of training data)\n",
    "        #self.layers.append(nn.Dropout(.5))\n",
    "\n",
    "        self.layers.append(out_activation)\n",
    "        \n",
    "        if device == None:\n",
    "            self.device = torch.device('cuda' if torch.cuda.is_available() else 'cpu')\n",
    "        else:\n",
    "            self.device = device\n",
    "\n",
    "        self.to(self.device)\n",
    "\n",
    "    def forward(self, input_data, train=True):\n",
    "        x = test_tensor = torch.cat((input_data[:, 0, :,:], input_data[:,1, :, :]), 2).unsqueeze(1)\n",
    "        for layer in self.layers:\n",
    "            x = layer(x)\n",
    "        return x\n",
    "\n",
    "class plain_model2(nn.Module):\n",
    "    def __init__(self, lin_layers, activation = nn.ReLU(), out_activation = nn.LogSoftmax(dim=1), device=None):\n",
    "        super().__init__()\n",
    "        ########### setting up conv layers ###########\n",
    "        self.ch1 = nn.ModuleList()\n",
    "        self.ch2 = nn.ModuleList()\n",
    "        self.layers = nn.ModuleList()\n",
    "        \n",
    "        #channel 1\n",
    "        self.ch1.append(nn.Conv2d(1, 32, kernel_size=3))\n",
    "        self.ch1.append(activation)\n",
    "        self.ch1.append(nn.MaxPool2d(kernel_size=(2,2), stride = 2))\n",
    "        self.ch1.append(nn.Conv2d(32, 32, kernel_size=3))\n",
    "        self.ch1.append(activation)\n",
    "\n",
    "        #channel 2\n",
    "        self.ch2.append(nn.Conv2d(1, 32, kernel_size=3))\n",
    "        self.ch2.append(activation)\n",
    "        self.ch2.append(nn.MaxPool2d(kernel_size=(2,2), stride = 2))\n",
    "        self.ch2.append(nn.Conv2d(32, 32, kernel_size=3))\n",
    "        self.ch2.append(activation)\n",
    "    \n",
    "        #flatten and full connected layers\n",
    "        self.layers.append(nn.Flatten())\n",
    "\n",
    "        layers_full = [1024] + lin_layers\n",
    "        \n",
    "        ################## FFN ##################  \n",
    "        # variable number of hidden layers and neurons, controlled by \n",
    "        for i, layer in enumerate(lin_layers):\n",
    "            self.layers.append(nn.Linear(layers_full[i], layer))\n",
    "            if activation is not None:\n",
    "                assert isinstance(activation, Module), \\\n",
    "                self.layers.append(activation)\n",
    "\n",
    "        self.layers.append(nn.Linear(lin_layers[-1], 2))\n",
    "\n",
    "        self.layers.append(out_activation)\n",
    "        \n",
    "        if device == None:\n",
    "            self.device = torch.device('cuda' if torch.cuda.is_available() else 'cpu')\n",
    "        else:\n",
    "            self.device = device\n",
    "\n",
    "        self.to(self.device)\n",
    "\n",
    "    def forward(self, input_data, train=True):\n",
    "        x_ch1 = input_data[:, 0, :,:].unsqueeze(1)\n",
    "        x_ch2 = input_data[:,1, :, :].unsqueeze(1)\n",
    "        \n",
    "        for ch_1, ch_2 in zip(self.ch1, self.ch2):\n",
    "            x_ch1 = ch_1(x_ch1)\n",
    "            x_ch2 = ch_2(x_ch2)\n",
    "        x = torch.cat((x_ch1, x_ch2), 1)\n",
    "        for layer in self.layers:\n",
    "            x = layer(x)\n",
    "        return x"
   ]
  },
  {
   "cell_type": "code",
   "execution_count": 3,
   "metadata": {},
   "outputs": [],
   "source": [
    "from run_training import run_analysis"
   ]
  },
  {
   "cell_type": "code",
   "execution_count": 4,
   "metadata": {},
   "outputs": [
    {
     "data": {
      "application/vnd.jupyter.widget-view+json": {
       "model_id": "98b51428e7cb4f1eb30f58db9383a92d",
       "version_major": 2,
       "version_minor": 0
      },
      "text/plain": [
       "  0%|          | 0/50 [00:00<?, ?it/s]"
      ]
     },
     "metadata": {},
     "output_type": "display_data"
    },
    {
     "name": "stdout",
     "output_type": "stream",
     "text": [
      "[Final Result] Accuracy(Training): (100.000%), Accuracy(Test): (84.500%)\n",
      "ran for a total of 50 epochs\n",
      "\n",
      " \n",
      "\n"
     ]
    },
    {
     "data": {
      "application/vnd.jupyter.widget-view+json": {
       "model_id": "3f03196c4566485caf8d1d83af008d5a",
       "version_major": 2,
       "version_minor": 0
      },
      "text/plain": [
       "  0%|          | 0/50 [00:00<?, ?it/s]"
      ]
     },
     "metadata": {},
     "output_type": "display_data"
    },
    {
     "name": "stdout",
     "output_type": "stream",
     "text": [
      "[Final Result] Accuracy(Training): (100.000%), Accuracy(Test): (84.100%)\n",
      "ran for a total of 50 epochs\n",
      "\n",
      " \n",
      "\n"
     ]
    },
    {
     "data": {
      "application/vnd.jupyter.widget-view+json": {
       "model_id": "7ae335a784334c599d92ce3a3b65bd92",
       "version_major": 2,
       "version_minor": 0
      },
      "text/plain": [
       "  0%|          | 0/50 [00:00<?, ?it/s]"
      ]
     },
     "metadata": {},
     "output_type": "display_data"
    },
    {
     "name": "stdout",
     "output_type": "stream",
     "text": [
      "[Final Result] Accuracy(Training): (100.000%), Accuracy(Test): (84.900%)\n",
      "ran for a total of 50 epochs\n",
      "\n",
      " \n",
      "\n"
     ]
    },
    {
     "data": {
      "application/vnd.jupyter.widget-view+json": {
       "model_id": "b65dfdc9fee94319b400abe01e3fc017",
       "version_major": 2,
       "version_minor": 0
      },
      "text/plain": [
       "  0%|          | 0/50 [00:00<?, ?it/s]"
      ]
     },
     "metadata": {},
     "output_type": "display_data"
    },
    {
     "name": "stdout",
     "output_type": "stream",
     "text": [
      "[Final Result] Accuracy(Training): (98.800%), Accuracy(Test): (76.500%)\n",
      "ran for a total of 50 epochs\n",
      "\n",
      " \n",
      "\n"
     ]
    },
    {
     "data": {
      "application/vnd.jupyter.widget-view+json": {
       "model_id": "650e6c3d01c34f82bc4cdfb3f8fb8528",
       "version_major": 2,
       "version_minor": 0
      },
      "text/plain": [
       "  0%|          | 0/50 [00:00<?, ?it/s]"
      ]
     },
     "metadata": {},
     "output_type": "display_data"
    },
    {
     "name": "stdout",
     "output_type": "stream",
     "text": [
      "[Final Result] Accuracy(Training): (47.100%), Accuracy(Test): (49.600%)\n",
      "ran for a total of 50 epochs\n",
      "\n",
      " \n",
      "\n"
     ]
    },
    {
     "data": {
      "application/vnd.jupyter.widget-view+json": {
       "model_id": "5a6dff67c9a84aae9f5f33ae81f33509",
       "version_major": 2,
       "version_minor": 0
      },
      "text/plain": [
       "  0%|          | 0/50 [00:00<?, ?it/s]"
      ]
     },
     "metadata": {},
     "output_type": "display_data"
    },
    {
     "name": "stdout",
     "output_type": "stream",
     "text": [
      "[Final Result] Accuracy(Training): (100.000%), Accuracy(Test): (84.400%)\n",
      "ran for a total of 50 epochs\n",
      "\n",
      " \n",
      "\n"
     ]
    },
    {
     "data": {
      "application/vnd.jupyter.widget-view+json": {
       "model_id": "32155af9c6d44d0687e8fbe7d3ae0b63",
       "version_major": 2,
       "version_minor": 0
      },
      "text/plain": [
       "  0%|          | 0/50 [00:00<?, ?it/s]"
      ]
     },
     "metadata": {},
     "output_type": "display_data"
    },
    {
     "name": "stdout",
     "output_type": "stream",
     "text": [
      "[Final Result] Accuracy(Training): (100.000%), Accuracy(Test): (84.200%)\n",
      "ran for a total of 50 epochs\n",
      "\n",
      " \n",
      "\n"
     ]
    },
    {
     "data": {
      "application/vnd.jupyter.widget-view+json": {
       "model_id": "1f92bc9ff3264b0cb1ef62256678a3b4",
       "version_major": 2,
       "version_minor": 0
      },
      "text/plain": [
       "  0%|          | 0/50 [00:00<?, ?it/s]"
      ]
     },
     "metadata": {},
     "output_type": "display_data"
    },
    {
     "name": "stdout",
     "output_type": "stream",
     "text": [
      "[Final Result] Accuracy(Training): (100.000%), Accuracy(Test): (85.200%)\n",
      "ran for a total of 50 epochs\n",
      "\n",
      " \n",
      "\n"
     ]
    },
    {
     "data": {
      "application/vnd.jupyter.widget-view+json": {
       "model_id": "5a5afec907ae46358d166bc2a5b2c6b3",
       "version_major": 2,
       "version_minor": 0
      },
      "text/plain": [
       "  0%|          | 0/50 [00:00<?, ?it/s]"
      ]
     },
     "metadata": {},
     "output_type": "display_data"
    },
    {
     "name": "stdout",
     "output_type": "stream",
     "text": [
      "[Final Result] Accuracy(Training): (100.000%), Accuracy(Test): (84.300%)\n",
      "ran for a total of 50 epochs\n",
      "\n",
      " \n",
      "\n"
     ]
    },
    {
     "data": {
      "application/vnd.jupyter.widget-view+json": {
       "model_id": "3492cda11f5f4e9eb4dc79b7f8574073",
       "version_major": 2,
       "version_minor": 0
      },
      "text/plain": [
       "  0%|          | 0/50 [00:00<?, ?it/s]"
      ]
     },
     "metadata": {},
     "output_type": "display_data"
    },
    {
     "name": "stdout",
     "output_type": "stream",
     "text": [
      "[Final Result] Accuracy(Training): (100.000%), Accuracy(Test): (86.600%)\n",
      "ran for a total of 50 epochs\n",
      "\n",
      " \n",
      "\n"
     ]
    },
    {
     "data": {
      "application/vnd.jupyter.widget-view+json": {
       "model_id": "96bd4c43efd04484baef933e4466da22",
       "version_major": 2,
       "version_minor": 0
      },
      "text/plain": [
       "  0%|          | 0/50 [00:00<?, ?it/s]"
      ]
     },
     "metadata": {},
     "output_type": "display_data"
    },
    {
     "name": "stdout",
     "output_type": "stream",
     "text": [
      "[Final Result] Accuracy(Training): (97.000%), Accuracy(Test): (82.500%)\n",
      "ran for a total of 50 epochs\n",
      "\n",
      " \n",
      "\n"
     ]
    },
    {
     "data": {
      "application/vnd.jupyter.widget-view+json": {
       "model_id": "f09cc10bb56d4df8bb62b7ef0347b274",
       "version_major": 2,
       "version_minor": 0
      },
      "text/plain": [
       "  0%|          | 0/50 [00:00<?, ?it/s]"
      ]
     },
     "metadata": {},
     "output_type": "display_data"
    },
    {
     "name": "stdout",
     "output_type": "stream",
     "text": [
      "[Final Result] Accuracy(Training): (100.000%), Accuracy(Test): (78.500%)\n",
      "ran for a total of 50 epochs\n",
      "\n",
      " \n",
      "\n"
     ]
    },
    {
     "data": {
      "application/vnd.jupyter.widget-view+json": {
       "model_id": "1ab5f54fbb5d47898e17e70b74fff3e6",
       "version_major": 2,
       "version_minor": 0
      },
      "text/plain": [
       "  0%|          | 0/50 [00:00<?, ?it/s]"
      ]
     },
     "metadata": {},
     "output_type": "display_data"
    },
    {
     "name": "stdout",
     "output_type": "stream",
     "text": [
      "[Final Result] Accuracy(Training): (100.000%), Accuracy(Test): (85.100%)\n",
      "ran for a total of 50 epochs\n",
      "\n",
      " \n",
      "\n"
     ]
    },
    {
     "data": {
      "application/vnd.jupyter.widget-view+json": {
       "model_id": "057db205d4ab487a97139667e2ac8c79",
       "version_major": 2,
       "version_minor": 0
      },
      "text/plain": [
       "  0%|          | 0/50 [00:00<?, ?it/s]"
      ]
     },
     "metadata": {},
     "output_type": "display_data"
    },
    {
     "name": "stdout",
     "output_type": "stream",
     "text": [
      "[Final Result] Accuracy(Training): (95.400%), Accuracy(Test): (82.000%)\n",
      "ran for a total of 50 epochs\n",
      "\n",
      " \n",
      "\n"
     ]
    },
    {
     "data": {
      "application/vnd.jupyter.widget-view+json": {
       "model_id": "3ac69f7a1fb543d7bc295259158c920f",
       "version_major": 2,
       "version_minor": 0
      },
      "text/plain": [
       "  0%|          | 0/50 [00:00<?, ?it/s]"
      ]
     },
     "metadata": {},
     "output_type": "display_data"
    },
    {
     "name": "stdout",
     "output_type": "stream",
     "text": [
      "[Final Result] Accuracy(Training): (100.000%), Accuracy(Test): (87.200%)\n",
      "ran for a total of 50 epochs\n",
      "\n",
      " \n",
      "\n"
     ]
    },
    {
     "data": {
      "application/vnd.jupyter.widget-view+json": {
       "model_id": "f70915092d5a424ca433a6a0f7f34199",
       "version_major": 2,
       "version_minor": 0
      },
      "text/plain": [
       "  0%|          | 0/50 [00:00<?, ?it/s]"
      ]
     },
     "metadata": {},
     "output_type": "display_data"
    },
    {
     "name": "stdout",
     "output_type": "stream",
     "text": [
      "[Final Result] Accuracy(Training): (100.000%), Accuracy(Test): (88.000%)\n",
      "ran for a total of 50 epochs\n",
      "\n",
      " \n",
      "\n"
     ]
    },
    {
     "data": {
      "application/vnd.jupyter.widget-view+json": {
       "model_id": "785106f7d7064b64bd91e0c99ca1e742",
       "version_major": 2,
       "version_minor": 0
      },
      "text/plain": [
       "  0%|          | 0/50 [00:00<?, ?it/s]"
      ]
     },
     "metadata": {},
     "output_type": "display_data"
    },
    {
     "name": "stdout",
     "output_type": "stream",
     "text": [
      "[Final Result] Accuracy(Training): (100.000%), Accuracy(Test): (84.200%)\n",
      "ran for a total of 50 epochs\n",
      "\n",
      " \n",
      "\n"
     ]
    },
    {
     "data": {
      "application/vnd.jupyter.widget-view+json": {
       "model_id": "a8e390c544174180bd8562b77f8d9df7",
       "version_major": 2,
       "version_minor": 0
      },
      "text/plain": [
       "  0%|          | 0/50 [00:00<?, ?it/s]"
      ]
     },
     "metadata": {},
     "output_type": "display_data"
    },
    {
     "name": "stdout",
     "output_type": "stream",
     "text": [
      "[Final Result] Accuracy(Training): (100.000%), Accuracy(Test): (86.300%)\n",
      "ran for a total of 50 epochs\n",
      "\n",
      " \n",
      "\n"
     ]
    },
    {
     "data": {
      "application/vnd.jupyter.widget-view+json": {
       "model_id": "e9f5ce388cef45a9bb998fdb71b5d332",
       "version_major": 2,
       "version_minor": 0
      },
      "text/plain": [
       "  0%|          | 0/50 [00:00<?, ?it/s]"
      ]
     },
     "metadata": {},
     "output_type": "display_data"
    },
    {
     "name": "stdout",
     "output_type": "stream",
     "text": [
      "[Final Result] Accuracy(Training): (51.800%), Accuracy(Test): (52.200%)\n",
      "ran for a total of 50 epochs\n",
      "\n",
      " \n",
      "\n"
     ]
    },
    {
     "data": {
      "application/vnd.jupyter.widget-view+json": {
       "model_id": "1341a136f4d943b2ad9a0e99c1095b1e",
       "version_major": 2,
       "version_minor": 0
      },
      "text/plain": [
       "  0%|          | 0/50 [00:00<?, ?it/s]"
      ]
     },
     "metadata": {},
     "output_type": "display_data"
    },
    {
     "name": "stdout",
     "output_type": "stream",
     "text": [
      "[Final Result] Accuracy(Training): (100.000%), Accuracy(Test): (84.700%)\n",
      "ran for a total of 50 epochs\n",
      "\n",
      " \n",
      "\n"
     ]
    },
    {
     "data": {
      "application/vnd.jupyter.widget-view+json": {
       "model_id": "01a6f89798b44740a3947f34c640475f",
       "version_major": 2,
       "version_minor": 0
      },
      "text/plain": [
       "  0%|          | 0/50 [00:00<?, ?it/s]"
      ]
     },
     "metadata": {},
     "output_type": "display_data"
    },
    {
     "name": "stdout",
     "output_type": "stream",
     "text": [
      "[Final Result] Accuracy(Training): (100.000%), Accuracy(Test): (83.700%)\n",
      "ran for a total of 50 epochs\n",
      "\n",
      " \n",
      "\n"
     ]
    },
    {
     "data": {
      "application/vnd.jupyter.widget-view+json": {
       "model_id": "fbba9a37b3ba416cb3cafc029ca9a31a",
       "version_major": 2,
       "version_minor": 0
      },
      "text/plain": [
       "  0%|          | 0/50 [00:00<?, ?it/s]"
      ]
     },
     "metadata": {},
     "output_type": "display_data"
    },
    {
     "name": "stdout",
     "output_type": "stream",
     "text": [
      "[Final Result] Accuracy(Training): (100.000%), Accuracy(Test): (83.700%)\n",
      "ran for a total of 50 epochs\n",
      "\n",
      " \n",
      "\n"
     ]
    },
    {
     "data": {
      "application/vnd.jupyter.widget-view+json": {
       "model_id": "7c6056662fde42fb85a2e3148e445530",
       "version_major": 2,
       "version_minor": 0
      },
      "text/plain": [
       "  0%|          | 0/50 [00:00<?, ?it/s]"
      ]
     },
     "metadata": {},
     "output_type": "display_data"
    },
    {
     "name": "stdout",
     "output_type": "stream",
     "text": [
      "[Final Result] Accuracy(Training): (100.000%), Accuracy(Test): (84.200%)\n",
      "ran for a total of 50 epochs\n",
      "\n",
      " \n",
      "\n"
     ]
    },
    {
     "data": {
      "application/vnd.jupyter.widget-view+json": {
       "model_id": "5b6d0e731a7e49668c38cfb3fd7a83d8",
       "version_major": 2,
       "version_minor": 0
      },
      "text/plain": [
       "  0%|          | 0/50 [00:00<?, ?it/s]"
      ]
     },
     "metadata": {},
     "output_type": "display_data"
    },
    {
     "name": "stdout",
     "output_type": "stream",
     "text": [
      "[Final Result] Accuracy(Training): (100.000%), Accuracy(Test): (85.200%)\n",
      "ran for a total of 50 epochs\n",
      "\n",
      " \n",
      "\n"
     ]
    },
    {
     "data": {
      "application/vnd.jupyter.widget-view+json": {
       "model_id": "4873eb3d2c64416cb34b723825027bb3",
       "version_major": 2,
       "version_minor": 0
      },
      "text/plain": [
       "  0%|          | 0/50 [00:00<?, ?it/s]"
      ]
     },
     "metadata": {},
     "output_type": "display_data"
    },
    {
     "name": "stdout",
     "output_type": "stream",
     "text": [
      "[Final Result] Accuracy(Training): (100.000%), Accuracy(Test): (85.700%)\n",
      "ran for a total of 50 epochs\n",
      "\n",
      " \n",
      "\n"
     ]
    },
    {
     "data": {
      "application/vnd.jupyter.widget-view+json": {
       "model_id": "efb90d91cc764ad190ce7785a3ee8a7c",
       "version_major": 2,
       "version_minor": 0
      },
      "text/plain": [
       "  0%|          | 0/50 [00:00<?, ?it/s]"
      ]
     },
     "metadata": {},
     "output_type": "display_data"
    },
    {
     "name": "stdout",
     "output_type": "stream",
     "text": [
      "[Final Result] Accuracy(Training): (92.300%), Accuracy(Test): (77.900%)\n",
      "ran for a total of 50 epochs\n",
      "\n",
      " \n",
      "\n"
     ]
    },
    {
     "data": {
      "application/vnd.jupyter.widget-view+json": {
       "model_id": "fe86e84477cc4943bf03a470e64e1681",
       "version_major": 2,
       "version_minor": 0
      },
      "text/plain": [
       "  0%|          | 0/50 [00:00<?, ?it/s]"
      ]
     },
     "metadata": {},
     "output_type": "display_data"
    },
    {
     "name": "stdout",
     "output_type": "stream",
     "text": [
      "[Final Result] Accuracy(Training): (100.000%), Accuracy(Test): (81.400%)\n",
      "ran for a total of 50 epochs\n",
      "\n",
      " \n",
      "\n"
     ]
    },
    {
     "data": {
      "application/vnd.jupyter.widget-view+json": {
       "model_id": "795597630215468da3f77be3e1d4a64f",
       "version_major": 2,
       "version_minor": 0
      },
      "text/plain": [
       "  0%|          | 0/50 [00:00<?, ?it/s]"
      ]
     },
     "metadata": {},
     "output_type": "display_data"
    },
    {
     "name": "stdout",
     "output_type": "stream",
     "text": [
      "[Final Result] Accuracy(Training): (100.000%), Accuracy(Test): (84.100%)\n",
      "ran for a total of 50 epochs\n",
      "\n",
      " \n",
      "\n"
     ]
    },
    {
     "data": {
      "application/vnd.jupyter.widget-view+json": {
       "model_id": "8ab0e9c0768b4c36bfe06ee3f7fab7de",
       "version_major": 2,
       "version_minor": 0
      },
      "text/plain": [
       "  0%|          | 0/50 [00:00<?, ?it/s]"
      ]
     },
     "metadata": {},
     "output_type": "display_data"
    },
    {
     "name": "stdout",
     "output_type": "stream",
     "text": [
      "[Final Result] Accuracy(Training): (100.000%), Accuracy(Test): (81.100%)\n",
      "ran for a total of 50 epochs\n",
      "\n",
      " \n",
      "\n"
     ]
    },
    {
     "data": {
      "application/vnd.jupyter.widget-view+json": {
       "model_id": "20073a71554f46fe81ddf0d98e3dbff0",
       "version_major": 2,
       "version_minor": 0
      },
      "text/plain": [
       "  0%|          | 0/50 [00:00<?, ?it/s]"
      ]
     },
     "metadata": {},
     "output_type": "display_data"
    },
    {
     "name": "stdout",
     "output_type": "stream",
     "text": [
      "[Final Result] Accuracy(Training): (99.900%), Accuracy(Test): (84.300%)\n",
      "ran for a total of 50 epochs\n",
      "\n",
      " \n",
      "\n"
     ]
    },
    {
     "data": {
      "application/vnd.jupyter.widget-view+json": {
       "model_id": "0f3bd1d7205c4a1ba5a42536a5eda85e",
       "version_major": 2,
       "version_minor": 0
      },
      "text/plain": [
       "  0%|          | 0/50 [00:00<?, ?it/s]"
      ]
     },
     "metadata": {},
     "output_type": "display_data"
    },
    {
     "name": "stdout",
     "output_type": "stream",
     "text": [
      "[Final Result] Accuracy(Training): (92.700%), Accuracy(Test): (71.100%)\n",
      "ran for a total of 50 epochs\n",
      "\n",
      " \n",
      "\n"
     ]
    },
    {
     "data": {
      "application/vnd.jupyter.widget-view+json": {
       "model_id": "9dce28e898484399bb0d22ab19ef67b2",
       "version_major": 2,
       "version_minor": 0
      },
      "text/plain": [
       "  0%|          | 0/50 [00:00<?, ?it/s]"
      ]
     },
     "metadata": {},
     "output_type": "display_data"
    },
    {
     "name": "stdout",
     "output_type": "stream",
     "text": [
      "[Final Result] Accuracy(Training): (100.000%), Accuracy(Test): (83.100%)\n",
      "ran for a total of 50 epochs\n",
      "\n",
      " \n",
      "\n"
     ]
    },
    {
     "data": {
      "application/vnd.jupyter.widget-view+json": {
       "model_id": "de4ffd4c92d94051933f687e43039a13",
       "version_major": 2,
       "version_minor": 0
      },
      "text/plain": [
       "  0%|          | 0/50 [00:00<?, ?it/s]"
      ]
     },
     "metadata": {},
     "output_type": "display_data"
    },
    {
     "name": "stdout",
     "output_type": "stream",
     "text": [
      "[Final Result] Accuracy(Training): (100.000%), Accuracy(Test): (83.600%)\n",
      "ran for a total of 50 epochs\n",
      "\n",
      " \n",
      "\n"
     ]
    },
    {
     "data": {
      "application/vnd.jupyter.widget-view+json": {
       "model_id": "f1da8ead16b94d75bedc682cb16396cf",
       "version_major": 2,
       "version_minor": 0
      },
      "text/plain": [
       "  0%|          | 0/50 [00:00<?, ?it/s]"
      ]
     },
     "metadata": {},
     "output_type": "display_data"
    },
    {
     "name": "stdout",
     "output_type": "stream",
     "text": [
      "[Final Result] Accuracy(Training): (100.000%), Accuracy(Test): (83.800%)\n",
      "ran for a total of 50 epochs\n",
      "\n",
      " \n",
      "\n"
     ]
    },
    {
     "data": {
      "application/vnd.jupyter.widget-view+json": {
       "model_id": "040ea0a29043461a92c178d0d1bdbf7d",
       "version_major": 2,
       "version_minor": 0
      },
      "text/plain": [
       "  0%|          | 0/50 [00:00<?, ?it/s]"
      ]
     },
     "metadata": {},
     "output_type": "display_data"
    },
    {
     "name": "stdout",
     "output_type": "stream",
     "text": [
      "[Final Result] Accuracy(Training): (100.000%), Accuracy(Test): (84.200%)\n",
      "ran for a total of 50 epochs\n",
      "\n",
      " \n",
      "\n"
     ]
    },
    {
     "data": {
      "application/vnd.jupyter.widget-view+json": {
       "model_id": "5a1e9c3f3ae6448abbc2ae6f909b4c8c",
       "version_major": 2,
       "version_minor": 0
      },
      "text/plain": [
       "  0%|          | 0/50 [00:00<?, ?it/s]"
      ]
     },
     "metadata": {},
     "output_type": "display_data"
    },
    {
     "name": "stdout",
     "output_type": "stream",
     "text": [
      "[Final Result] Accuracy(Training): (90.800%), Accuracy(Test): (79.200%)\n",
      "ran for a total of 50 epochs\n",
      "\n",
      " \n",
      "\n"
     ]
    },
    {
     "data": {
      "application/vnd.jupyter.widget-view+json": {
       "model_id": "f2252afba2154f5aad92075bbba335b8",
       "version_major": 2,
       "version_minor": 0
      },
      "text/plain": [
       "  0%|          | 0/50 [00:00<?, ?it/s]"
      ]
     },
     "metadata": {},
     "output_type": "display_data"
    },
    {
     "name": "stdout",
     "output_type": "stream",
     "text": [
      "[Final Result] Accuracy(Training): (49.800%), Accuracy(Test): (51.900%)\n",
      "ran for a total of 50 epochs\n",
      "\n",
      " \n",
      "\n"
     ]
    },
    {
     "data": {
      "application/vnd.jupyter.widget-view+json": {
       "model_id": "e9ff56518b214d6281634f9ef7d39c0f",
       "version_major": 2,
       "version_minor": 0
      },
      "text/plain": [
       "  0%|          | 0/50 [00:00<?, ?it/s]"
      ]
     },
     "metadata": {},
     "output_type": "display_data"
    },
    {
     "name": "stdout",
     "output_type": "stream",
     "text": [
      "[Final Result] Accuracy(Training): (100.000%), Accuracy(Test): (82.600%)\n",
      "ran for a total of 50 epochs\n",
      "\n",
      " \n",
      "\n"
     ]
    },
    {
     "data": {
      "application/vnd.jupyter.widget-view+json": {
       "model_id": "40a62ae05c944fd5b02b38ac74738f04",
       "version_major": 2,
       "version_minor": 0
      },
      "text/plain": [
       "  0%|          | 0/50 [00:00<?, ?it/s]"
      ]
     },
     "metadata": {},
     "output_type": "display_data"
    },
    {
     "name": "stdout",
     "output_type": "stream",
     "text": [
      "[Final Result] Accuracy(Training): (100.000%), Accuracy(Test): (86.900%)\n",
      "ran for a total of 50 epochs\n",
      "\n",
      " \n",
      "\n"
     ]
    },
    {
     "data": {
      "application/vnd.jupyter.widget-view+json": {
       "model_id": "5c7169b489604a55bc6777a8decd3c89",
       "version_major": 2,
       "version_minor": 0
      },
      "text/plain": [
       "  0%|          | 0/50 [00:00<?, ?it/s]"
      ]
     },
     "metadata": {},
     "output_type": "display_data"
    },
    {
     "name": "stdout",
     "output_type": "stream",
     "text": [
      "[Final Result] Accuracy(Training): (100.000%), Accuracy(Test): (84.300%)\n",
      "ran for a total of 50 epochs\n",
      "\n",
      " \n",
      "\n"
     ]
    },
    {
     "data": {
      "application/vnd.jupyter.widget-view+json": {
       "model_id": "4966e81703834c1f9a3a7903e4fd6e87",
       "version_major": 2,
       "version_minor": 0
      },
      "text/plain": [
       "  0%|          | 0/50 [00:00<?, ?it/s]"
      ]
     },
     "metadata": {},
     "output_type": "display_data"
    },
    {
     "name": "stdout",
     "output_type": "stream",
     "text": [
      "[Final Result] Accuracy(Training): (51.600%), Accuracy(Test): (50.400%)\n",
      "ran for a total of 50 epochs\n",
      "\n",
      " \n",
      "\n"
     ]
    },
    {
     "data": {
      "application/vnd.jupyter.widget-view+json": {
       "model_id": "db4bc2fe2c40459ea0bc2c1069dbb70a",
       "version_major": 2,
       "version_minor": 0
      },
      "text/plain": [
       "  0%|          | 0/50 [00:00<?, ?it/s]"
      ]
     },
     "metadata": {},
     "output_type": "display_data"
    },
    {
     "name": "stdout",
     "output_type": "stream",
     "text": [
      "[Final Result] Accuracy(Training): (100.000%), Accuracy(Test): (80.900%)\n",
      "ran for a total of 50 epochs\n",
      "\n",
      " \n",
      "\n"
     ]
    },
    {
     "data": {
      "application/vnd.jupyter.widget-view+json": {
       "model_id": "67d39236f3f34474ab6c85a179e883fb",
       "version_major": 2,
       "version_minor": 0
      },
      "text/plain": [
       "  0%|          | 0/50 [00:00<?, ?it/s]"
      ]
     },
     "metadata": {},
     "output_type": "display_data"
    },
    {
     "name": "stdout",
     "output_type": "stream",
     "text": [
      "[Final Result] Accuracy(Training): (100.000%), Accuracy(Test): (83.700%)\n",
      "ran for a total of 50 epochs\n",
      "\n",
      " \n",
      "\n"
     ]
    },
    {
     "data": {
      "application/vnd.jupyter.widget-view+json": {
       "model_id": "c9136d506b164e998ae467205669c414",
       "version_major": 2,
       "version_minor": 0
      },
      "text/plain": [
       "  0%|          | 0/50 [00:00<?, ?it/s]"
      ]
     },
     "metadata": {},
     "output_type": "display_data"
    },
    {
     "name": "stdout",
     "output_type": "stream",
     "text": [
      "[Final Result] Accuracy(Training): (100.000%), Accuracy(Test): (84.200%)\n",
      "ran for a total of 50 epochs\n",
      "\n",
      " \n",
      "\n"
     ]
    },
    {
     "data": {
      "application/vnd.jupyter.widget-view+json": {
       "model_id": "96766a3dfb9d44e68130880523c0ed7c",
       "version_major": 2,
       "version_minor": 0
      },
      "text/plain": [
       "  0%|          | 0/50 [00:00<?, ?it/s]"
      ]
     },
     "metadata": {},
     "output_type": "display_data"
    },
    {
     "name": "stdout",
     "output_type": "stream",
     "text": [
      "[Final Result] Accuracy(Training): (100.000%), Accuracy(Test): (86.700%)\n",
      "ran for a total of 50 epochs\n",
      "\n",
      " \n",
      "\n"
     ]
    },
    {
     "data": {
      "application/vnd.jupyter.widget-view+json": {
       "model_id": "2485cbfdd6984a468afa5774110d104e",
       "version_major": 2,
       "version_minor": 0
      },
      "text/plain": [
       "  0%|          | 0/50 [00:00<?, ?it/s]"
      ]
     },
     "metadata": {},
     "output_type": "display_data"
    },
    {
     "name": "stdout",
     "output_type": "stream",
     "text": [
      "[Final Result] Accuracy(Training): (100.000%), Accuracy(Test): (83.700%)\n",
      "ran for a total of 50 epochs\n",
      "\n",
      " \n",
      "\n"
     ]
    },
    {
     "data": {
      "application/vnd.jupyter.widget-view+json": {
       "model_id": "0a3f59b04a554dd18c2a7a82afbda992",
       "version_major": 2,
       "version_minor": 0
      },
      "text/plain": [
       "  0%|          | 0/50 [00:00<?, ?it/s]"
      ]
     },
     "metadata": {},
     "output_type": "display_data"
    },
    {
     "name": "stdout",
     "output_type": "stream",
     "text": [
      "[Final Result] Accuracy(Training): (100.000%), Accuracy(Test): (84.000%)\n",
      "ran for a total of 50 epochs\n",
      "\n",
      " \n",
      "\n"
     ]
    },
    {
     "data": {
      "application/vnd.jupyter.widget-view+json": {
       "model_id": "367fd27bcd8f498380b75ae878665a81",
       "version_major": 2,
       "version_minor": 0
      },
      "text/plain": [
       "  0%|          | 0/50 [00:00<?, ?it/s]"
      ]
     },
     "metadata": {},
     "output_type": "display_data"
    },
    {
     "name": "stdout",
     "output_type": "stream",
     "text": [
      "[Final Result] Accuracy(Training): (99.700%), Accuracy(Test): (84.300%)\n",
      "ran for a total of 50 epochs\n",
      "\n",
      " \n",
      "\n"
     ]
    },
    {
     "data": {
      "application/vnd.jupyter.widget-view+json": {
       "model_id": "9521e699269d4fc49dfc3a061e380468",
       "version_major": 2,
       "version_minor": 0
      },
      "text/plain": [
       "  0%|          | 0/50 [00:00<?, ?it/s]"
      ]
     },
     "metadata": {},
     "output_type": "display_data"
    },
    {
     "name": "stdout",
     "output_type": "stream",
     "text": [
      "[Final Result] Accuracy(Training): (100.000%), Accuracy(Test): (85.000%)\n",
      "ran for a total of 50 epochs\n",
      "\n",
      " \n",
      "\n"
     ]
    },
    {
     "data": {
      "application/vnd.jupyter.widget-view+json": {
       "model_id": "db8daa16498e48ddb84f9af7a152cb45",
       "version_major": 2,
       "version_minor": 0
      },
      "text/plain": [
       "  0%|          | 0/50 [00:00<?, ?it/s]"
      ]
     },
     "metadata": {},
     "output_type": "display_data"
    },
    {
     "name": "stdout",
     "output_type": "stream",
     "text": [
      "[Final Result] Accuracy(Training): (100.000%), Accuracy(Test): (84.200%)\n",
      "ran for a total of 50 epochs\n",
      "\n",
      " \n",
      "\n"
     ]
    },
    {
     "data": {
      "application/vnd.jupyter.widget-view+json": {
       "model_id": "fad3bf54d56d4efea9e3373234d63920",
       "version_major": 2,
       "version_minor": 0
      },
      "text/plain": [
       "  0%|          | 0/50 [00:00<?, ?it/s]"
      ]
     },
     "metadata": {},
     "output_type": "display_data"
    },
    {
     "name": "stdout",
     "output_type": "stream",
     "text": [
      "[Final Result] Accuracy(Training): (100.000%), Accuracy(Test): (83.000%)\n",
      "ran for a total of 50 epochs\n",
      "\n",
      " \n",
      "\n"
     ]
    },
    {
     "data": {
      "application/vnd.jupyter.widget-view+json": {
       "model_id": "56337a9c95e643218d7f128bc5866bc2",
       "version_major": 2,
       "version_minor": 0
      },
      "text/plain": [
       "  0%|          | 0/50 [00:00<?, ?it/s]"
      ]
     },
     "metadata": {},
     "output_type": "display_data"
    },
    {
     "name": "stdout",
     "output_type": "stream",
     "text": [
      "[Final Result] Accuracy(Training): (48.600%), Accuracy(Test): (48.800%)\n",
      "ran for a total of 50 epochs\n",
      "\n",
      " \n",
      "\n"
     ]
    },
    {
     "data": {
      "application/vnd.jupyter.widget-view+json": {
       "model_id": "9fa670969be042228ecf2399af4eb1dc",
       "version_major": 2,
       "version_minor": 0
      },
      "text/plain": [
       "  0%|          | 0/50 [00:00<?, ?it/s]"
      ]
     },
     "metadata": {},
     "output_type": "display_data"
    },
    {
     "name": "stdout",
     "output_type": "stream",
     "text": [
      "[Final Result] Accuracy(Training): (100.000%), Accuracy(Test): (82.700%)\n",
      "ran for a total of 50 epochs\n",
      "\n",
      " \n",
      "\n"
     ]
    },
    {
     "data": {
      "application/vnd.jupyter.widget-view+json": {
       "model_id": "38533c7123604ab48e52a7c950a4f1fc",
       "version_major": 2,
       "version_minor": 0
      },
      "text/plain": [
       "  0%|          | 0/50 [00:00<?, ?it/s]"
      ]
     },
     "metadata": {},
     "output_type": "display_data"
    },
    {
     "name": "stdout",
     "output_type": "stream",
     "text": [
      "[Final Result] Accuracy(Training): (100.000%), Accuracy(Test): (86.500%)\n",
      "ran for a total of 50 epochs\n",
      "\n",
      " \n",
      "\n"
     ]
    },
    {
     "data": {
      "application/vnd.jupyter.widget-view+json": {
       "model_id": "a37ddfdb4efa436c8c3ca4e716e8367e",
       "version_major": 2,
       "version_minor": 0
      },
      "text/plain": [
       "  0%|          | 0/50 [00:00<?, ?it/s]"
      ]
     },
     "metadata": {},
     "output_type": "display_data"
    },
    {
     "name": "stdout",
     "output_type": "stream",
     "text": [
      "[Final Result] Accuracy(Training): (100.000%), Accuracy(Test): (84.100%)\n",
      "ran for a total of 50 epochs\n",
      "\n",
      " \n",
      "\n"
     ]
    },
    {
     "data": {
      "application/vnd.jupyter.widget-view+json": {
       "model_id": "f95865c8669f4c7da07f48c8667912de",
       "version_major": 2,
       "version_minor": 0
      },
      "text/plain": [
       "  0%|          | 0/50 [00:00<?, ?it/s]"
      ]
     },
     "metadata": {},
     "output_type": "display_data"
    },
    {
     "name": "stdout",
     "output_type": "stream",
     "text": [
      "[Final Result] Accuracy(Training): (100.000%), Accuracy(Test): (83.600%)\n",
      "ran for a total of 50 epochs\n",
      "\n",
      " \n",
      "\n"
     ]
    },
    {
     "data": {
      "application/vnd.jupyter.widget-view+json": {
       "model_id": "748654c86e5b424cafb5d87a5ffc44d0",
       "version_major": 2,
       "version_minor": 0
      },
      "text/plain": [
       "  0%|          | 0/50 [00:00<?, ?it/s]"
      ]
     },
     "metadata": {},
     "output_type": "display_data"
    },
    {
     "name": "stdout",
     "output_type": "stream",
     "text": [
      "[Final Result] Accuracy(Training): (100.000%), Accuracy(Test): (81.100%)\n",
      "ran for a total of 50 epochs\n",
      "\n",
      " \n",
      "\n"
     ]
    },
    {
     "data": {
      "application/vnd.jupyter.widget-view+json": {
       "model_id": "79e3f60d5985483fa91ae1f369fff50e",
       "version_major": 2,
       "version_minor": 0
      },
      "text/plain": [
       "  0%|          | 0/50 [00:00<?, ?it/s]"
      ]
     },
     "metadata": {},
     "output_type": "display_data"
    },
    {
     "name": "stdout",
     "output_type": "stream",
     "text": [
      "[Final Result] Accuracy(Training): (100.000%), Accuracy(Test): (83.200%)\n",
      "ran for a total of 50 epochs\n",
      "\n",
      " \n",
      "\n"
     ]
    },
    {
     "data": {
      "application/vnd.jupyter.widget-view+json": {
       "model_id": "9075f0d637734794a561402d1e1a6a4d",
       "version_major": 2,
       "version_minor": 0
      },
      "text/plain": [
       "  0%|          | 0/50 [00:00<?, ?it/s]"
      ]
     },
     "metadata": {},
     "output_type": "display_data"
    },
    {
     "name": "stdout",
     "output_type": "stream",
     "text": [
      "[Final Result] Accuracy(Training): (100.000%), Accuracy(Test): (83.900%)\n",
      "ran for a total of 50 epochs\n",
      "\n",
      " \n",
      "\n"
     ]
    },
    {
     "data": {
      "application/vnd.jupyter.widget-view+json": {
       "model_id": "d8117baba9d54edfbd0ab58c0a7ae158",
       "version_major": 2,
       "version_minor": 0
      },
      "text/plain": [
       "  0%|          | 0/50 [00:00<?, ?it/s]"
      ]
     },
     "metadata": {},
     "output_type": "display_data"
    },
    {
     "name": "stdout",
     "output_type": "stream",
     "text": [
      "[Final Result] Accuracy(Training): (100.000%), Accuracy(Test): (80.900%)\n",
      "ran for a total of 50 epochs\n",
      "\n",
      " \n",
      "\n"
     ]
    },
    {
     "data": {
      "application/vnd.jupyter.widget-view+json": {
       "model_id": "2768e7f2f6b04039870716a690e87d1a",
       "version_major": 2,
       "version_minor": 0
      },
      "text/plain": [
       "  0%|          | 0/50 [00:00<?, ?it/s]"
      ]
     },
     "metadata": {},
     "output_type": "display_data"
    },
    {
     "name": "stdout",
     "output_type": "stream",
     "text": [
      "[Final Result] Accuracy(Training): (100.000%), Accuracy(Test): (83.600%)\n",
      "ran for a total of 50 epochs\n",
      "\n",
      " \n",
      "\n"
     ]
    },
    {
     "data": {
      "application/vnd.jupyter.widget-view+json": {
       "model_id": "136fd295b53a4be1a5e5938882e84e4d",
       "version_major": 2,
       "version_minor": 0
      },
      "text/plain": [
       "  0%|          | 0/50 [00:00<?, ?it/s]"
      ]
     },
     "metadata": {},
     "output_type": "display_data"
    },
    {
     "name": "stdout",
     "output_type": "stream",
     "text": [
      "[Final Result] Accuracy(Training): (100.000%), Accuracy(Test): (84.100%)\n",
      "ran for a total of 50 epochs\n",
      "\n",
      " \n",
      "\n"
     ]
    },
    {
     "data": {
      "application/vnd.jupyter.widget-view+json": {
       "model_id": "ba9f253559aa4af68dee60cb9d5ace69",
       "version_major": 2,
       "version_minor": 0
      },
      "text/plain": [
       "  0%|          | 0/50 [00:00<?, ?it/s]"
      ]
     },
     "metadata": {},
     "output_type": "display_data"
    },
    {
     "name": "stdout",
     "output_type": "stream",
     "text": [
      "[Final Result] Accuracy(Training): (100.000%), Accuracy(Test): (82.700%)\n",
      "ran for a total of 50 epochs\n",
      "\n",
      " \n",
      "\n"
     ]
    },
    {
     "data": {
      "application/vnd.jupyter.widget-view+json": {
       "model_id": "07fa103376c74d31abb20ce583c75eaf",
       "version_major": 2,
       "version_minor": 0
      },
      "text/plain": [
       "  0%|          | 0/50 [00:00<?, ?it/s]"
      ]
     },
     "metadata": {},
     "output_type": "display_data"
    },
    {
     "name": "stdout",
     "output_type": "stream",
     "text": [
      "[Final Result] Accuracy(Training): (100.000%), Accuracy(Test): (87.000%)\n",
      "ran for a total of 50 epochs\n",
      "\n",
      " \n",
      "\n"
     ]
    },
    {
     "data": {
      "application/vnd.jupyter.widget-view+json": {
       "model_id": "749f161c6bfa4260b00976176d4bcd74",
       "version_major": 2,
       "version_minor": 0
      },
      "text/plain": [
       "  0%|          | 0/50 [00:00<?, ?it/s]"
      ]
     },
     "metadata": {},
     "output_type": "display_data"
    },
    {
     "name": "stdout",
     "output_type": "stream",
     "text": [
      "[Final Result] Accuracy(Training): (100.000%), Accuracy(Test): (84.200%)\n",
      "ran for a total of 50 epochs\n",
      "\n",
      " \n",
      "\n"
     ]
    },
    {
     "data": {
      "application/vnd.jupyter.widget-view+json": {
       "model_id": "12d8296ffa194b29827fe2a3cb0db57b",
       "version_major": 2,
       "version_minor": 0
      },
      "text/plain": [
       "  0%|          | 0/50 [00:00<?, ?it/s]"
      ]
     },
     "metadata": {},
     "output_type": "display_data"
    },
    {
     "name": "stdout",
     "output_type": "stream",
     "text": [
      "[Final Result] Accuracy(Training): (100.000%), Accuracy(Test): (85.600%)\n",
      "ran for a total of 50 epochs\n",
      "\n",
      " \n",
      "\n"
     ]
    },
    {
     "data": {
      "application/vnd.jupyter.widget-view+json": {
       "model_id": "ea8c0cc72a8740fc806a723644ef90d5",
       "version_major": 2,
       "version_minor": 0
      },
      "text/plain": [
       "  0%|          | 0/50 [00:00<?, ?it/s]"
      ]
     },
     "metadata": {},
     "output_type": "display_data"
    },
    {
     "name": "stdout",
     "output_type": "stream",
     "text": [
      "[Final Result] Accuracy(Training): (100.000%), Accuracy(Test): (82.100%)\n",
      "ran for a total of 50 epochs\n",
      "\n",
      " \n",
      "\n"
     ]
    },
    {
     "data": {
      "application/vnd.jupyter.widget-view+json": {
       "model_id": "5acbf828a5814c98937e16681824c7db",
       "version_major": 2,
       "version_minor": 0
      },
      "text/plain": [
       "  0%|          | 0/50 [00:00<?, ?it/s]"
      ]
     },
     "metadata": {},
     "output_type": "display_data"
    },
    {
     "name": "stdout",
     "output_type": "stream",
     "text": [
      "[Final Result] Accuracy(Training): (100.000%), Accuracy(Test): (83.200%)\n",
      "ran for a total of 50 epochs\n",
      "\n",
      " \n",
      "\n"
     ]
    },
    {
     "data": {
      "application/vnd.jupyter.widget-view+json": {
       "model_id": "04bc73156b12464ea10612673bf5e6fc",
       "version_major": 2,
       "version_minor": 0
      },
      "text/plain": [
       "  0%|          | 0/50 [00:00<?, ?it/s]"
      ]
     },
     "metadata": {},
     "output_type": "display_data"
    },
    {
     "name": "stdout",
     "output_type": "stream",
     "text": [
      "[Final Result] Accuracy(Training): (50.300%), Accuracy(Test): (51.300%)\n",
      "ran for a total of 50 epochs\n",
      "\n",
      " \n",
      "\n"
     ]
    },
    {
     "data": {
      "application/vnd.jupyter.widget-view+json": {
       "model_id": "e555552c6b094480ab06c32d0273f43b",
       "version_major": 2,
       "version_minor": 0
      },
      "text/plain": [
       "  0%|          | 0/50 [00:00<?, ?it/s]"
      ]
     },
     "metadata": {},
     "output_type": "display_data"
    },
    {
     "name": "stdout",
     "output_type": "stream",
     "text": [
      "[Final Result] Accuracy(Training): (100.000%), Accuracy(Test): (84.900%)\n",
      "ran for a total of 50 epochs\n",
      "\n",
      " \n",
      "\n"
     ]
    },
    {
     "data": {
      "application/vnd.jupyter.widget-view+json": {
       "model_id": "42be44df7b98424e953af72be6c268eb",
       "version_major": 2,
       "version_minor": 0
      },
      "text/plain": [
       "  0%|          | 0/50 [00:00<?, ?it/s]"
      ]
     },
     "metadata": {},
     "output_type": "display_data"
    },
    {
     "name": "stdout",
     "output_type": "stream",
     "text": [
      "[Final Result] Accuracy(Training): (48.400%), Accuracy(Test): (52.300%)\n",
      "ran for a total of 50 epochs\n",
      "\n",
      " \n",
      "\n"
     ]
    },
    {
     "data": {
      "application/vnd.jupyter.widget-view+json": {
       "model_id": "f538f440fc374de89be269a2be2f403b",
       "version_major": 2,
       "version_minor": 0
      },
      "text/plain": [
       "  0%|          | 0/50 [00:00<?, ?it/s]"
      ]
     },
     "metadata": {},
     "output_type": "display_data"
    },
    {
     "name": "stdout",
     "output_type": "stream",
     "text": [
      "[Final Result] Accuracy(Training): (100.000%), Accuracy(Test): (85.800%)\n",
      "ran for a total of 50 epochs\n",
      "\n",
      " \n",
      "\n"
     ]
    },
    {
     "data": {
      "application/vnd.jupyter.widget-view+json": {
       "model_id": "11c6e28b44c04f49a2cacaa61001fb86",
       "version_major": 2,
       "version_minor": 0
      },
      "text/plain": [
       "  0%|          | 0/50 [00:00<?, ?it/s]"
      ]
     },
     "metadata": {},
     "output_type": "display_data"
    },
    {
     "name": "stdout",
     "output_type": "stream",
     "text": [
      "[Final Result] Accuracy(Training): (99.100%), Accuracy(Test): (80.900%)\n",
      "ran for a total of 50 epochs\n",
      "\n",
      " \n",
      "\n"
     ]
    },
    {
     "data": {
      "application/vnd.jupyter.widget-view+json": {
       "model_id": "cdeb2712e537422b9b27c068efa341fa",
       "version_major": 2,
       "version_minor": 0
      },
      "text/plain": [
       "  0%|          | 0/50 [00:00<?, ?it/s]"
      ]
     },
     "metadata": {},
     "output_type": "display_data"
    },
    {
     "name": "stdout",
     "output_type": "stream",
     "text": [
      "[Final Result] Accuracy(Training): (100.000%), Accuracy(Test): (82.400%)\n",
      "ran for a total of 50 epochs\n",
      "\n",
      " \n",
      "\n"
     ]
    },
    {
     "data": {
      "application/vnd.jupyter.widget-view+json": {
       "model_id": "a31774c87afc466da93b62fbc412725b",
       "version_major": 2,
       "version_minor": 0
      },
      "text/plain": [
       "  0%|          | 0/50 [00:00<?, ?it/s]"
      ]
     },
     "metadata": {},
     "output_type": "display_data"
    },
    {
     "name": "stdout",
     "output_type": "stream",
     "text": [
      "[Final Result] Accuracy(Training): (52.200%), Accuracy(Test): (51.900%)\n",
      "ran for a total of 50 epochs\n",
      "\n",
      " \n",
      "\n"
     ]
    },
    {
     "data": {
      "application/vnd.jupyter.widget-view+json": {
       "model_id": "6534d80cf2664827a1cba3d4f09ea616",
       "version_major": 2,
       "version_minor": 0
      },
      "text/plain": [
       "  0%|          | 0/50 [00:00<?, ?it/s]"
      ]
     },
     "metadata": {},
     "output_type": "display_data"
    },
    {
     "name": "stdout",
     "output_type": "stream",
     "text": [
      "[Final Result] Accuracy(Training): (100.000%), Accuracy(Test): (83.900%)\n",
      "ran for a total of 50 epochs\n",
      "\n",
      " \n",
      "\n"
     ]
    },
    {
     "data": {
      "application/vnd.jupyter.widget-view+json": {
       "model_id": "eded946b0a8a450f99578475cacbd94e",
       "version_major": 2,
       "version_minor": 0
      },
      "text/plain": [
       "  0%|          | 0/50 [00:00<?, ?it/s]"
      ]
     },
     "metadata": {},
     "output_type": "display_data"
    },
    {
     "name": "stdout",
     "output_type": "stream",
     "text": [
      "[Final Result] Accuracy(Training): (100.000%), Accuracy(Test): (83.100%)\n",
      "ran for a total of 50 epochs\n",
      "\n",
      " \n",
      "\n"
     ]
    },
    {
     "data": {
      "application/vnd.jupyter.widget-view+json": {
       "model_id": "551147ed564848dd9841bfe9eec05d89",
       "version_major": 2,
       "version_minor": 0
      },
      "text/plain": [
       "  0%|          | 0/50 [00:00<?, ?it/s]"
      ]
     },
     "metadata": {},
     "output_type": "display_data"
    },
    {
     "name": "stdout",
     "output_type": "stream",
     "text": [
      "[Final Result] Accuracy(Training): (100.000%), Accuracy(Test): (84.200%)\n",
      "ran for a total of 50 epochs\n",
      "\n",
      " \n",
      "\n"
     ]
    },
    {
     "data": {
      "application/vnd.jupyter.widget-view+json": {
       "model_id": "016f7843162e4c5597b38d8839f0c408",
       "version_major": 2,
       "version_minor": 0
      },
      "text/plain": [
       "  0%|          | 0/50 [00:00<?, ?it/s]"
      ]
     },
     "metadata": {},
     "output_type": "display_data"
    },
    {
     "name": "stdout",
     "output_type": "stream",
     "text": [
      "[Final Result] Accuracy(Training): (47.700%), Accuracy(Test): (49.400%)\n",
      "ran for a total of 50 epochs\n",
      "\n",
      " \n",
      "\n"
     ]
    },
    {
     "data": {
      "application/vnd.jupyter.widget-view+json": {
       "model_id": "1546dc598ce345f397dd6de8141749e2",
       "version_major": 2,
       "version_minor": 0
      },
      "text/plain": [
       "  0%|          | 0/50 [00:00<?, ?it/s]"
      ]
     },
     "metadata": {},
     "output_type": "display_data"
    },
    {
     "name": "stdout",
     "output_type": "stream",
     "text": [
      "[Final Result] Accuracy(Training): (47.900%), Accuracy(Test): (50.000%)\n",
      "ran for a total of 50 epochs\n",
      "\n",
      " \n",
      "\n"
     ]
    },
    {
     "data": {
      "application/vnd.jupyter.widget-view+json": {
       "model_id": "07a4da7d8a4c434baf749e05200aacaf",
       "version_major": 2,
       "version_minor": 0
      },
      "text/plain": [
       "  0%|          | 0/50 [00:00<?, ?it/s]"
      ]
     },
     "metadata": {},
     "output_type": "display_data"
    },
    {
     "name": "stdout",
     "output_type": "stream",
     "text": [
      "[Final Result] Accuracy(Training): (100.000%), Accuracy(Test): (83.500%)\n",
      "ran for a total of 50 epochs\n",
      "\n",
      " \n",
      "\n"
     ]
    },
    {
     "data": {
      "application/vnd.jupyter.widget-view+json": {
       "model_id": "720d842b0d3046ed84959543eb57a12b",
       "version_major": 2,
       "version_minor": 0
      },
      "text/plain": [
       "  0%|          | 0/50 [00:00<?, ?it/s]"
      ]
     },
     "metadata": {},
     "output_type": "display_data"
    },
    {
     "name": "stdout",
     "output_type": "stream",
     "text": [
      "[Final Result] Accuracy(Training): (100.000%), Accuracy(Test): (82.000%)\n",
      "ran for a total of 50 epochs\n",
      "\n",
      " \n",
      "\n"
     ]
    },
    {
     "data": {
      "application/vnd.jupyter.widget-view+json": {
       "model_id": "3f405c29091d48efb40d15cd65251801",
       "version_major": 2,
       "version_minor": 0
      },
      "text/plain": [
       "  0%|          | 0/50 [00:00<?, ?it/s]"
      ]
     },
     "metadata": {},
     "output_type": "display_data"
    },
    {
     "name": "stdout",
     "output_type": "stream",
     "text": [
      "[Final Result] Accuracy(Training): (100.000%), Accuracy(Test): (85.900%)\n",
      "ran for a total of 50 epochs\n",
      "\n",
      " \n",
      "\n"
     ]
    },
    {
     "data": {
      "application/vnd.jupyter.widget-view+json": {
       "model_id": "3b32e5601a7844068ccade496c3f200d",
       "version_major": 2,
       "version_minor": 0
      },
      "text/plain": [
       "  0%|          | 0/50 [00:00<?, ?it/s]"
      ]
     },
     "metadata": {},
     "output_type": "display_data"
    },
    {
     "name": "stdout",
     "output_type": "stream",
     "text": [
      "[Final Result] Accuracy(Training): (100.000%), Accuracy(Test): (82.200%)\n",
      "ran for a total of 50 epochs\n",
      "\n",
      " \n",
      "\n"
     ]
    },
    {
     "data": {
      "application/vnd.jupyter.widget-view+json": {
       "model_id": "b62d7d396df04c20b6723d9669425588",
       "version_major": 2,
       "version_minor": 0
      },
      "text/plain": [
       "  0%|          | 0/50 [00:00<?, ?it/s]"
      ]
     },
     "metadata": {},
     "output_type": "display_data"
    },
    {
     "name": "stdout",
     "output_type": "stream",
     "text": [
      "[Final Result] Accuracy(Training): (94.000%), Accuracy(Test): (81.500%)\n",
      "ran for a total of 50 epochs\n",
      "\n",
      " \n",
      "\n"
     ]
    },
    {
     "data": {
      "application/vnd.jupyter.widget-view+json": {
       "model_id": "92d4507638a744e4825966d3023c3869",
       "version_major": 2,
       "version_minor": 0
      },
      "text/plain": [
       "  0%|          | 0/50 [00:00<?, ?it/s]"
      ]
     },
     "metadata": {},
     "output_type": "display_data"
    },
    {
     "name": "stdout",
     "output_type": "stream",
     "text": [
      "[Final Result] Accuracy(Training): (92.500%), Accuracy(Test): (77.200%)\n",
      "ran for a total of 50 epochs\n",
      "\n",
      " \n",
      "\n"
     ]
    },
    {
     "data": {
      "application/vnd.jupyter.widget-view+json": {
       "model_id": "6de9b95ed6d5468087d38cfa1e920080",
       "version_major": 2,
       "version_minor": 0
      },
      "text/plain": [
       "  0%|          | 0/50 [00:00<?, ?it/s]"
      ]
     },
     "metadata": {},
     "output_type": "display_data"
    },
    {
     "name": "stdout",
     "output_type": "stream",
     "text": [
      "[Final Result] Accuracy(Training): (48.600%), Accuracy(Test): (49.300%)\n",
      "ran for a total of 50 epochs\n",
      "\n",
      " \n",
      "\n"
     ]
    },
    {
     "data": {
      "application/vnd.jupyter.widget-view+json": {
       "model_id": "be9b1ddaf2484c6f841c5e81cf9697b5",
       "version_major": 2,
       "version_minor": 0
      },
      "text/plain": [
       "  0%|          | 0/50 [00:00<?, ?it/s]"
      ]
     },
     "metadata": {},
     "output_type": "display_data"
    },
    {
     "name": "stdout",
     "output_type": "stream",
     "text": [
      "[Final Result] Accuracy(Training): (100.000%), Accuracy(Test): (83.500%)\n",
      "ran for a total of 50 epochs\n",
      "\n",
      " \n",
      "\n"
     ]
    },
    {
     "data": {
      "application/vnd.jupyter.widget-view+json": {
       "model_id": "38e585b8e3f4461f8bc08f29d8c8e548",
       "version_major": 2,
       "version_minor": 0
      },
      "text/plain": [
       "  0%|          | 0/50 [00:00<?, ?it/s]"
      ]
     },
     "metadata": {},
     "output_type": "display_data"
    },
    {
     "name": "stdout",
     "output_type": "stream",
     "text": [
      "[Final Result] Accuracy(Training): (100.000%), Accuracy(Test): (83.300%)\n",
      "ran for a total of 50 epochs\n",
      "\n",
      " \n",
      "\n"
     ]
    },
    {
     "data": {
      "application/vnd.jupyter.widget-view+json": {
       "model_id": "7d1cb3edb1d944bfa1f66d7b883d8274",
       "version_major": 2,
       "version_minor": 0
      },
      "text/plain": [
       "  0%|          | 0/50 [00:00<?, ?it/s]"
      ]
     },
     "metadata": {},
     "output_type": "display_data"
    },
    {
     "name": "stdout",
     "output_type": "stream",
     "text": [
      "[Final Result] Accuracy(Training): (99.900%), Accuracy(Test): (78.500%)\n",
      "ran for a total of 50 epochs\n",
      "\n",
      " \n",
      "\n"
     ]
    },
    {
     "data": {
      "application/vnd.jupyter.widget-view+json": {
       "model_id": "b80d18a74dea443089b9b5e971a565da",
       "version_major": 2,
       "version_minor": 0
      },
      "text/plain": [
       "  0%|          | 0/50 [00:00<?, ?it/s]"
      ]
     },
     "metadata": {},
     "output_type": "display_data"
    },
    {
     "name": "stdout",
     "output_type": "stream",
     "text": [
      "[Final Result] Accuracy(Training): (82.500%), Accuracy(Test): (70.500%)\n",
      "ran for a total of 50 epochs\n",
      "\n",
      " \n",
      "\n"
     ]
    },
    {
     "data": {
      "application/vnd.jupyter.widget-view+json": {
       "model_id": "30b214c098464b669d18811c87f516f6",
       "version_major": 2,
       "version_minor": 0
      },
      "text/plain": [
       "  0%|          | 0/50 [00:00<?, ?it/s]"
      ]
     },
     "metadata": {},
     "output_type": "display_data"
    },
    {
     "name": "stdout",
     "output_type": "stream",
     "text": [
      "[Final Result] Accuracy(Training): (100.000%), Accuracy(Test): (82.700%)\n",
      "ran for a total of 50 epochs\n",
      "\n",
      " \n",
      "\n"
     ]
    },
    {
     "data": {
      "application/vnd.jupyter.widget-view+json": {
       "model_id": "844b410fa5a44fb89650fd517535aa72",
       "version_major": 2,
       "version_minor": 0
      },
      "text/plain": [
       "  0%|          | 0/50 [00:00<?, ?it/s]"
      ]
     },
     "metadata": {},
     "output_type": "display_data"
    },
    {
     "name": "stdout",
     "output_type": "stream",
     "text": [
      "[Final Result] Accuracy(Training): (100.000%), Accuracy(Test): (84.300%)\n",
      "ran for a total of 50 epochs\n",
      "\n",
      " \n",
      "\n"
     ]
    },
    {
     "data": {
      "application/vnd.jupyter.widget-view+json": {
       "model_id": "7ce909ac572a4a2d9103584508feaaa1",
       "version_major": 2,
       "version_minor": 0
      },
      "text/plain": [
       "  0%|          | 0/50 [00:00<?, ?it/s]"
      ]
     },
     "metadata": {},
     "output_type": "display_data"
    },
    {
     "name": "stdout",
     "output_type": "stream",
     "text": [
      "[Final Result] Accuracy(Training): (50.800%), Accuracy(Test): (52.100%)\n",
      "ran for a total of 50 epochs\n",
      "\n",
      " \n",
      "\n"
     ]
    },
    {
     "data": {
      "application/vnd.jupyter.widget-view+json": {
       "model_id": "468cc61f67c54727b806354dc2f2362b",
       "version_major": 2,
       "version_minor": 0
      },
      "text/plain": [
       "  0%|          | 0/50 [00:00<?, ?it/s]"
      ]
     },
     "metadata": {},
     "output_type": "display_data"
    },
    {
     "name": "stdout",
     "output_type": "stream",
     "text": [
      "[Final Result] Accuracy(Training): (50.500%), Accuracy(Test): (50.700%)\n",
      "ran for a total of 50 epochs\n",
      "\n",
      " \n",
      "\n"
     ]
    },
    {
     "data": {
      "application/vnd.jupyter.widget-view+json": {
       "model_id": "85e3f75ca0ae4f959c6e254c8778c6a6",
       "version_major": 2,
       "version_minor": 0
      },
      "text/plain": [
       "  0%|          | 0/50 [00:00<?, ?it/s]"
      ]
     },
     "metadata": {},
     "output_type": "display_data"
    },
    {
     "name": "stdout",
     "output_type": "stream",
     "text": [
      "[Final Result] Accuracy(Training): (51.200%), Accuracy(Test): (51.000%)\n",
      "ran for a total of 50 epochs\n",
      "\n",
      " \n",
      "\n"
     ]
    },
    {
     "data": {
      "application/vnd.jupyter.widget-view+json": {
       "model_id": "d15d18cf34e0452cb00915810d722708",
       "version_major": 2,
       "version_minor": 0
      },
      "text/plain": [
       "  0%|          | 0/50 [00:00<?, ?it/s]"
      ]
     },
     "metadata": {},
     "output_type": "display_data"
    },
    {
     "name": "stdout",
     "output_type": "stream",
     "text": [
      "[Final Result] Accuracy(Training): (56.800%), Accuracy(Test): (52.600%)\n",
      "ran for a total of 50 epochs\n",
      "\n",
      " \n",
      "\n"
     ]
    },
    {
     "data": {
      "application/vnd.jupyter.widget-view+json": {
       "model_id": "769ad936af3f450f814ea8aea22dfbdd",
       "version_major": 2,
       "version_minor": 0
      },
      "text/plain": [
       "  0%|          | 0/50 [00:00<?, ?it/s]"
      ]
     },
     "metadata": {},
     "output_type": "display_data"
    },
    {
     "name": "stdout",
     "output_type": "stream",
     "text": [
      "[Final Result] Accuracy(Training): (100.000%), Accuracy(Test): (80.000%)\n",
      "ran for a total of 50 epochs\n",
      "\n",
      " \n",
      "\n"
     ]
    },
    {
     "data": {
      "application/vnd.jupyter.widget-view+json": {
       "model_id": "928af277ff1944a5afdf4c370188a659",
       "version_major": 2,
       "version_minor": 0
      },
      "text/plain": [
       "  0%|          | 0/50 [00:00<?, ?it/s]"
      ]
     },
     "metadata": {},
     "output_type": "display_data"
    },
    {
     "name": "stdout",
     "output_type": "stream",
     "text": [
      "[Final Result] Accuracy(Training): (100.000%), Accuracy(Test): (83.900%)\n",
      "ran for a total of 50 epochs\n",
      "\n",
      " \n",
      "\n"
     ]
    },
    {
     "data": {
      "application/vnd.jupyter.widget-view+json": {
       "model_id": "2830bc82a3474f0abf1087f2a9dffed5",
       "version_major": 2,
       "version_minor": 0
      },
      "text/plain": [
       "  0%|          | 0/50 [00:00<?, ?it/s]"
      ]
     },
     "metadata": {},
     "output_type": "display_data"
    },
    {
     "name": "stdout",
     "output_type": "stream",
     "text": [
      "[Final Result] Accuracy(Training): (100.000%), Accuracy(Test): (86.600%)\n",
      "ran for a total of 50 epochs\n",
      "\n",
      " \n",
      "\n",
      "Line2D(_child0) Line2D(_child1) Line2D(_child2) <matplotlib.collections.PolyCollection object at 0x7f58c6498ee0>\n"
     ]
    },
    {
     "name": "stderr",
     "output_type": "stream",
     "text": [
      "/home/rudi/Documents/Uni/Courses-Exchange/DeepLearning/Final_Project/Project_1/Visualization.py:50: UserWarning: Matplotlib is currently using module://matplotlib_inline.backend_inline, which is a non-GUI backend, so cannot show the figure.\n",
      "  fig.show()\n"
     ]
    },
    {
     "data": {
      "image/png": "[encoded data removed]",
      "text/plain": [
       "<Figure size 640x480 with 1 Axes>"
      ]
     },
     "metadata": {
      "needs_background": "light"
     },
     "output_type": "display_data"
    }
   ],
   "source": [
    "run_analysis(plain_model2, 100, 50, [64, 64, 32], device, lr=.01)"
   ]
  },
  {
   "cell_type": "code",
   "execution_count": null,
   "metadata": {},
   "outputs": [],
   "source": []
  }
 ],
 "metadata": {
  "kernelspec": {
   "display_name": "torch",
   "language": "python",
   "name": "python3"
  },
  "language_info": {
   "codemirror_mode": {
    "name": "ipython",
    "version": 3
   },
   "file_extension": ".py",
   "mimetype": "text/x-python",
   "name": "python",
   "nbconvert_exporter": "python",
   "pygments_lexer": "ipython3",
   "version": "3.9.12 (main, Jun  1 2022, 11:38:51) \n[GCC 7.5.0]"
  },
  "orig_nbformat": 4,
  "vscode": {
   "interpreter": {
    "hash": "9776258cb6398d27f5227b85aed097ba1d94f1dc0f3390982c9d110f6351e5c3"
   }
  }
 },
 "nbformat": 4,
 "nbformat_minor": 2
}
